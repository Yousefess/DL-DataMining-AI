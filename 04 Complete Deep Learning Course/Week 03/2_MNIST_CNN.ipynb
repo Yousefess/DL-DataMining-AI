{
  "nbformat": 4,
  "nbformat_minor": 0,
  "metadata": {
    "colab": {
      "provenance": [],
      "gpuType": "T4"
    },
    "kernelspec": {
      "name": "python3",
      "display_name": "Python 3"
    },
    "language_info": {
      "name": "python"
    },
    "accelerator": "GPU"
  },
  "cells": [
    {
      "cell_type": "markdown",
      "source": [
        "## CNN"
      ],
      "metadata": {
        "id": "Q5fHkMPSHgfV"
      }
    },
    {
      "cell_type": "code",
      "execution_count": 1,
      "metadata": {
        "id": "jI14gL75HNpS"
      },
      "outputs": [],
      "source": [
        "from keras.datasets import mnist\n",
        "import numpy as np\n",
        "import matplotlib.pyplot as plt\n",
        "import tensorflow as tf"
      ]
    },
    {
      "cell_type": "code",
      "source": [
        "(x_train, y_train), (x_test, y_test) = mnist.load_data()"
      ],
      "metadata": {
        "colab": {
          "base_uri": "https://localhost:8080/"
        },
        "id": "TpEbhTDiHllp",
        "outputId": "54bb8895-93ae-474e-83b8-ba5b3e277fac"
      },
      "execution_count": 2,
      "outputs": [
        {
          "output_type": "stream",
          "name": "stdout",
          "text": [
            "Downloading data from https://storage.googleapis.com/tensorflow/tf-keras-datasets/mnist.npz\n",
            "11490434/11490434 [==============================] - 0s 0us/step\n"
          ]
        }
      ]
    },
    {
      "cell_type": "code",
      "source": [
        "x_train = x_train / 255\n",
        "x_test = x_test / 255"
      ],
      "metadata": {
        "id": "ePRNNZIOH4Bc"
      },
      "execution_count": 3,
      "outputs": []
    },
    {
      "cell_type": "code",
      "source": [
        "x_train.shape"
      ],
      "metadata": {
        "colab": {
          "base_uri": "https://localhost:8080/"
        },
        "id": "jnWjuY00IK2h",
        "outputId": "1f91268d-91dd-4991-b78c-2c9c157e812d"
      },
      "execution_count": 4,
      "outputs": [
        {
          "output_type": "execute_result",
          "data": {
            "text/plain": [
              "(60000, 28, 28)"
            ]
          },
          "metadata": {},
          "execution_count": 4
        }
      ]
    },
    {
      "cell_type": "code",
      "source": [
        "# First Method\n",
        "# x_train_f = x_train.reshape(-1, 28, 28, 1)\n",
        "# x_test_f = x_test.reshape(-1, 28, 28, 1)\n",
        "\n",
        "# Second Method\n",
        "x_train_f = np.expand_dims(x_train, axis=-1)\n",
        "x_test_f = np.expand_dims(x_test, axis=-1)"
      ],
      "metadata": {
        "id": "L9K0jp3EIM7B"
      },
      "execution_count": 5,
      "outputs": []
    },
    {
      "cell_type": "code",
      "source": [
        "x_train_f.shape, x_test_f.shape"
      ],
      "metadata": {
        "colab": {
          "base_uri": "https://localhost:8080/"
        },
        "id": "rUJJRd1kKfuj",
        "outputId": "badbb0ef-8cd7-4269-c6dc-3e8961b49a1d"
      },
      "execution_count": 6,
      "outputs": [
        {
          "output_type": "execute_result",
          "data": {
            "text/plain": [
              "((60000, 28, 28, 1), (10000, 28, 28, 1))"
            ]
          },
          "metadata": {},
          "execution_count": 6
        }
      ]
    },
    {
      "cell_type": "code",
      "source": [
        "from keras.utils import to_categorical\n",
        "num_classes = 10\n",
        "\n",
        "y_train_f = to_categorical(y_train, num_classes)\n",
        "y_test_f = to_categorical(y_test, num_classes)"
      ],
      "metadata": {
        "id": "7hn5THkDKhHe"
      },
      "execution_count": 7,
      "outputs": []
    },
    {
      "cell_type": "code",
      "source": [
        "from keras.models import Sequential\n",
        "from keras.layers import Dense, Flatten, Conv2D, MaxPool2D"
      ],
      "metadata": {
        "id": "VwoHeGEVK5JC"
      },
      "execution_count": 8,
      "outputs": []
    },
    {
      "cell_type": "code",
      "source": [
        "model = Sequential()\n",
        "model.add(Conv2D(filters=12, kernel_size=(3, 3), activation='relu', input_shape=(28, 28, 1)))\n",
        "model.add(Conv2D(filters=16, kernel_size=(3, 3), activation='relu'))\n",
        "model.add(MaxPool2D(pool_size=(2, 2)))\n",
        "model.add(Flatten())\n",
        "model.add(Dense(16, activation='relu'))\n",
        "model.add(Dense(10, activation='softmax'))\n",
        "\n",
        "model.compile(loss='categorical_crossentropy', optimizer='adam', metrics=['accuracy'])"
      ],
      "metadata": {
        "id": "AAxoxc-pLadk"
      },
      "execution_count": 9,
      "outputs": []
    },
    {
      "cell_type": "code",
      "source": [
        "model.summary()"
      ],
      "metadata": {
        "colab": {
          "base_uri": "https://localhost:8080/"
        },
        "id": "KaA5aHsVOURz",
        "outputId": "ec634f72-f39a-4649-9509-47aa510e5747"
      },
      "execution_count": 10,
      "outputs": [
        {
          "output_type": "stream",
          "name": "stdout",
          "text": [
            "Model: \"sequential\"\n",
            "_________________________________________________________________\n",
            " Layer (type)                Output Shape              Param #   \n",
            "=================================================================\n",
            " conv2d (Conv2D)             (None, 26, 26, 12)        120       \n",
            "                                                                 \n",
            " conv2d_1 (Conv2D)           (None, 24, 24, 16)        1744      \n",
            "                                                                 \n",
            " max_pooling2d (MaxPooling2  (None, 12, 12, 16)        0         \n",
            " D)                                                              \n",
            "                                                                 \n",
            " flatten (Flatten)           (None, 2304)              0         \n",
            "                                                                 \n",
            " dense (Dense)               (None, 16)                36880     \n",
            "                                                                 \n",
            " dense_1 (Dense)             (None, 10)                170       \n",
            "                                                                 \n",
            "=================================================================\n",
            "Total params: 38914 (152.01 KB)\n",
            "Trainable params: 38914 (152.01 KB)\n",
            "Non-trainable params: 0 (0.00 Byte)\n",
            "_________________________________________________________________\n"
          ]
        }
      ]
    },
    {
      "cell_type": "code",
      "source": [
        "# filters * (weights + biases) = 12 * (3*3 + 1) = 12 * (9 + 1) = 120"
      ],
      "metadata": {
        "id": "eM5YM81TOVz3"
      },
      "execution_count": 11,
      "outputs": []
    },
    {
      "cell_type": "code",
      "source": [
        "model.layers[0].weights"
      ],
      "metadata": {
        "colab": {
          "base_uri": "https://localhost:8080/"
        },
        "id": "9LQJ5KHcPs_Z",
        "outputId": "61fbfc79-d490-42db-f58f-795e3a4d36ef"
      },
      "execution_count": 12,
      "outputs": [
        {
          "output_type": "execute_result",
          "data": {
            "text/plain": [
              "[<tf.Variable 'conv2d/kernel:0' shape=(3, 3, 1, 12) dtype=float32, numpy=\n",
              " array([[[[ 0.19005941,  0.12967207, -0.16502878, -0.18507992,\n",
              "           -0.07035947,  0.04761817,  0.00102934, -0.01151113,\n",
              "           -0.14696641,  0.06104492, -0.19564718,  0.16265048]],\n",
              " \n",
              "         [[-0.10186019, -0.03496917,  0.20707192,  0.21265452,\n",
              "            0.15642674, -0.20161125, -0.08845261,  0.02510853,\n",
              "            0.10793133,  0.1991267 , -0.08545318, -0.18011516]],\n",
              " \n",
              "         [[-0.19060327, -0.06805356,  0.00596958,  0.19463144,\n",
              "            0.11935668, -0.21407172, -0.00225888, -0.1485813 ,\n",
              "            0.06096868,  0.04336496, -0.09304187, -0.22401392]]],\n",
              " \n",
              " \n",
              "        [[[-0.07991925,  0.16037942, -0.10929828,  0.20832108,\n",
              "            0.07734613,  0.01532301, -0.08017273,  0.17904104,\n",
              "            0.0325955 ,  0.1242062 , -0.06916146,  0.02401079]],\n",
              " \n",
              "         [[ 0.01937689,  0.17673363, -0.00746703, -0.1787515 ,\n",
              "            0.09808673, -0.06833108,  0.17218094,  0.12518372,\n",
              "           -0.13090008,  0.07798918, -0.1933607 ,  0.1716928 ]],\n",
              " \n",
              "         [[ 0.0788119 ,  0.04108675, -0.17602776, -0.19560495,\n",
              "           -0.04452793, -0.05960535,  0.07352425,  0.04624663,\n",
              "            0.22479703, -0.15577081,  0.13174964, -0.11238798]]],\n",
              " \n",
              " \n",
              "        [[[-0.16109563, -0.171372  ,  0.10665791, -0.15648958,\n",
              "            0.14272146,  0.04091944,  0.21974485, -0.06958388,\n",
              "           -0.10029687, -0.18890017,  0.05121021,  0.18221618]],\n",
              " \n",
              "         [[-0.22424236, -0.02515411, -0.21233223,  0.12341173,\n",
              "           -0.10318243,  0.16239719, -0.09107555,  0.18698429,\n",
              "            0.11629824,  0.06036149, -0.12488526,  0.00936483]],\n",
              " \n",
              "         [[-0.04415809, -0.052751  ,  0.1866657 , -0.21414018,\n",
              "           -0.10811879,  0.1784798 ,  0.21680428, -0.17105177,\n",
              "            0.19030006, -0.22552547, -0.09508835, -0.17505133]]]],\n",
              "       dtype=float32)>,\n",
              " <tf.Variable 'conv2d/bias:0' shape=(12,) dtype=float32, numpy=array([0., 0., 0., 0., 0., 0., 0., 0., 0., 0., 0., 0.], dtype=float32)>]"
            ]
          },
          "metadata": {},
          "execution_count": 12
        }
      ]
    },
    {
      "cell_type": "code",
      "source": [
        "model.fit(x_train_f, y_train_f, batch_size=128, epochs=10, validation_data=(x_test_f, y_test_f))"
      ],
      "metadata": {
        "colab": {
          "base_uri": "https://localhost:8080/"
        },
        "id": "AAIndQMHPvHn",
        "outputId": "5b84b7d3-0437-44f5-ac8e-830a4ce7e877"
      },
      "execution_count": 13,
      "outputs": [
        {
          "output_type": "stream",
          "name": "stdout",
          "text": [
            "Epoch 1/10\n",
            "469/469 [==============================] - 7s 6ms/step - loss: 0.3657 - accuracy: 0.8901 - val_loss: 0.1174 - val_accuracy: 0.9650\n",
            "Epoch 2/10\n",
            "469/469 [==============================] - 2s 4ms/step - loss: 0.1054 - accuracy: 0.9686 - val_loss: 0.0756 - val_accuracy: 0.9775\n",
            "Epoch 3/10\n",
            "469/469 [==============================] - 2s 5ms/step - loss: 0.0767 - accuracy: 0.9768 - val_loss: 0.0771 - val_accuracy: 0.9751\n",
            "Epoch 4/10\n",
            "469/469 [==============================] - 3s 6ms/step - loss: 0.0615 - accuracy: 0.9812 - val_loss: 0.0571 - val_accuracy: 0.9812\n",
            "Epoch 5/10\n",
            "469/469 [==============================] - 5s 11ms/step - loss: 0.0518 - accuracy: 0.9843 - val_loss: 0.0547 - val_accuracy: 0.9825\n",
            "Epoch 6/10\n",
            "469/469 [==============================] - 4s 8ms/step - loss: 0.0445 - accuracy: 0.9862 - val_loss: 0.0490 - val_accuracy: 0.9842\n",
            "Epoch 7/10\n",
            "469/469 [==============================] - 2s 5ms/step - loss: 0.0388 - accuracy: 0.9880 - val_loss: 0.0466 - val_accuracy: 0.9855\n",
            "Epoch 8/10\n",
            "469/469 [==============================] - 3s 6ms/step - loss: 0.0350 - accuracy: 0.9890 - val_loss: 0.0454 - val_accuracy: 0.9843\n",
            "Epoch 9/10\n",
            "469/469 [==============================] - 2s 5ms/step - loss: 0.0310 - accuracy: 0.9902 - val_loss: 0.0449 - val_accuracy: 0.9859\n",
            "Epoch 10/10\n",
            "469/469 [==============================] - 2s 5ms/step - loss: 0.0277 - accuracy: 0.9911 - val_loss: 0.0405 - val_accuracy: 0.9867\n"
          ]
        },
        {
          "output_type": "execute_result",
          "data": {
            "text/plain": [
              "<keras.src.callbacks.History at 0x7941c09e5d80>"
            ]
          },
          "metadata": {},
          "execution_count": 13
        }
      ]
    },
    {
      "cell_type": "code",
      "source": [
        "y_pred = model.predict(x_test_f)"
      ],
      "metadata": {
        "id": "7axcQLTKQh4L",
        "colab": {
          "base_uri": "https://localhost:8080/"
        },
        "outputId": "da621f38-c1a4-4d2f-ed5d-c50ee4ba1400"
      },
      "execution_count": 14,
      "outputs": [
        {
          "output_type": "stream",
          "name": "stdout",
          "text": [
            "313/313 [==============================] - 1s 2ms/step\n"
          ]
        }
      ]
    },
    {
      "cell_type": "code",
      "source": [
        "y_pred.shape"
      ],
      "metadata": {
        "colab": {
          "base_uri": "https://localhost:8080/"
        },
        "id": "29MHjtoTSWcz",
        "outputId": "662f5e22-1b82-4d64-87c7-ac075d503a85"
      },
      "execution_count": 15,
      "outputs": [
        {
          "output_type": "execute_result",
          "data": {
            "text/plain": [
              "(10000, 10)"
            ]
          },
          "metadata": {},
          "execution_count": 15
        }
      ]
    },
    {
      "cell_type": "code",
      "source": [
        "y_pred[0]"
      ],
      "metadata": {
        "colab": {
          "base_uri": "https://localhost:8080/"
        },
        "id": "t45aPh4kTBwc",
        "outputId": "5e062160-3cf9-4e0b-de4e-f5524649175e"
      },
      "execution_count": 16,
      "outputs": [
        {
          "output_type": "execute_result",
          "data": {
            "text/plain": [
              "array([1.40859191e-08, 1.16479235e-07, 2.24907481e-07, 9.00949601e-07,\n",
              "       1.52073298e-10, 9.81047021e-10, 2.18018406e-16, 9.99998569e-01,\n",
              "       1.55499347e-08, 4.92845835e-08], dtype=float32)"
            ]
          },
          "metadata": {},
          "execution_count": 16
        }
      ]
    },
    {
      "cell_type": "code",
      "source": [
        "y_pred[0].sum() # softmax"
      ],
      "metadata": {
        "colab": {
          "base_uri": "https://localhost:8080/"
        },
        "id": "vG0Y3OggSYN6",
        "outputId": "3db8cd46-9290-4e75-b913-d409cf89740e"
      },
      "execution_count": 17,
      "outputs": [
        {
          "output_type": "execute_result",
          "data": {
            "text/plain": [
              "0.9999999"
            ]
          },
          "metadata": {},
          "execution_count": 17
        }
      ]
    },
    {
      "cell_type": "code",
      "source": [
        "plt.imshow(x_test[0], cmap='gray')"
      ],
      "metadata": {
        "colab": {
          "base_uri": "https://localhost:8080/",
          "height": 448
        },
        "id": "uweeQenIS87h",
        "outputId": "5028cb42-a4ea-436c-8ded-3bf2c14cd530"
      },
      "execution_count": 18,
      "outputs": [
        {
          "output_type": "execute_result",
          "data": {
            "text/plain": [
              "<matplotlib.image.AxesImage at 0x79419c2605e0>"
            ]
          },
          "metadata": {},
          "execution_count": 18
        },
        {
          "output_type": "display_data",
          "data": {
            "text/plain": [
              "<Figure size 640x480 with 1 Axes>"
            ],
            "image/png": "[encoded data removed]"
          },
          "metadata": {}
        }
      ]
    },
    {
      "cell_type": "code",
      "source": [
        "def gridshow(x, y, n=5, mislabeled=False, yp=None):\n",
        "  if not mislabeled:\n",
        "    grid = np.random.randint(0, len(x), size=(n, n))\n",
        "  else:\n",
        "    wrong_labels = np.where(yp != y_test)[0]\n",
        "    grid = np.random.choice(wrong_labels, size=n**2)\n",
        "    grid = grid.reshape(n, n)\n",
        "\n",
        "\n",
        "  fig, ax = plt.subplots(ncols=n, nrows=n, figsize=(2*n, 2*n))\n",
        "  for i in range(n):\n",
        "    for j in range(n):\n",
        "      ax[i][j].imshow(x[grid[i, j]], cmap='gray')\n",
        "      ax[i][j].axis('off')\n",
        "      label = \"y = \" + str({y[grid[i][j]]})\n",
        "      if yp is not None:\n",
        "        label += \" | yp = \" + str({yp[grid[i][j]]})\n",
        "      ax[i][j].set_title(label)\n",
        "    # plt.tight_layout()\n",
        "  if yp is not None:\n",
        "    count = y[np.squeeze(grid)] == yp[np.squeeze(grid)]\n",
        "    count = count.astype('int')\n",
        "    count = np.count_nonzero(count)\n",
        "    print(f\"{count} correct predictions out of {n*n} samples.\")"
      ],
      "metadata": {
        "id": "QMfHNzC6TTn7"
      },
      "execution_count": 19,
      "outputs": []
    },
    {
      "cell_type": "code",
      "source": [
        "y_pred = np.argmax(y_pred, 1)"
      ],
      "metadata": {
        "id": "fmTorPEMWf3_"
      },
      "execution_count": 20,
      "outputs": []
    },
    {
      "cell_type": "code",
      "source": [
        "gridshow(x_test, y_test, yp=y_pred, mislabeled=False)"
      ],
      "metadata": {
        "colab": {
          "base_uri": "https://localhost:8080/",
          "height": 847
        },
        "id": "w1wYqq_GWJWf",
        "outputId": "2c5173c2-8ccb-4a03-f50e-9f93d1848c16"
      },
      "execution_count": 21,
      "outputs": [
        {
          "output_type": "stream",
          "name": "stdout",
          "text": [
            "25 correct predictions out of 25 samples.\n"
          ]
        },
        {
          "output_type": "display_data",
          "data": {
            "text/plain": [
              "<Figure size 1000x1000 with 25 Axes>"
            ],
            "image/png": "[encoded data removed]"
          },
          "metadata": {}
        }
      ]
    },
    {
      "cell_type": "code",
      "source": [
        "from keras.utils import plot_model\n",
        "plot_model(model)"
      ],
      "metadata": {
        "colab": {
          "base_uri": "https://localhost:8080/",
          "height": 661
        },
        "id": "o8DYMMbEWcFz",
        "outputId": "4f2d1202-af11-47a0-c229-5b57edeac1f0"
      },
      "execution_count": 24,
      "outputs": [
        {
          "output_type": "execute_result",
          "data": {
            "image/png": "[encoded data removed]",
            "text/plain": [
              "<IPython.core.display.Image object>"
            ]
          },
          "metadata": {},
          "execution_count": 24
        }
      ]
    },
    {
      "cell_type": "markdown",
      "source": [
        "## CNN Outputs"
      ],
      "metadata": {
        "id": "bOoNAEUwZDpK"
      }
    },
    {
      "cell_type": "code",
      "source": [
        "model"
      ],
      "metadata": {
        "colab": {
          "base_uri": "https://localhost:8080/"
        },
        "id": "EM5uyu0VX8fz",
        "outputId": "21cb4042-d29d-4cdd-d7be-435e5c0ff26e"
      },
      "execution_count": 25,
      "outputs": [
        {
          "output_type": "execute_result",
          "data": {
            "text/plain": [
              "<keras.src.engine.sequential.Sequential at 0x7941c0bd63b0>"
            ]
          },
          "metadata": {},
          "execution_count": 25
        }
      ]
    },
    {
      "cell_type": "code",
      "source": [
        "type(model)"
      ],
      "metadata": {
        "colab": {
          "base_uri": "https://localhost:8080/",
          "height": 186
        },
        "id": "cppWWNOiZIRz",
        "outputId": "eae2fa41-dabc-435c-8290-9f893812c7a4"
      },
      "execution_count": 26,
      "outputs": [
        {
          "output_type": "execute_result",
          "data": {
            "text/plain": [
              "keras.src.engine.sequential.Sequential"
            ],
            "text/html": [
              "<div style=\"max-width:800px; border: 1px solid var(--colab-border-color);\"><style>\n",
              "      pre.function-repr-contents {\n",
              "        overflow-x: auto;\n",
              "        padding: 8px 12px;\n",
              "        max-height: 500px;\n",
              "      }\n",
              "\n",
              "      pre.function-repr-contents.function-repr-contents-collapsed {\n",
              "        cursor: pointer;\n",
              "        max-height: 100px;\n",
              "      }\n",
              "    </style>\n",
              "    <pre style=\"white-space: initial; background:\n",
              "         var(--colab-secondary-surface-color); padding: 8px 12px;\n",
              "         border-bottom: 1px solid var(--colab-border-color);\"><b>keras.src.engine.sequential.Sequential</b><br/>def error_handler(*args, **kwargs)</pre><pre class=\"function-repr-contents function-repr-contents-collapsed\" style=\"\"><a class=\"filepath\" style=\"display:none\" href=\"#\">/usr/local/lib/python3.10/dist-packages/keras/src/engine/sequential.py</a>`Sequential` groups a linear stack of layers into a `tf.keras.Model`.\n",
              "\n",
              "`Sequential` provides training and inference features on this model.\n",
              "\n",
              "Examples:\n",
              "\n",
              "```python\n",
              "model = tf.keras.Sequential()\n",
              "model.add(tf.keras.Input(shape=(16,)))\n",
              "model.add(tf.keras.layers.Dense(8))\n",
              "\n",
              "# Note that you can also omit the initial `Input`.\n",
              "# In that case the model doesn&#x27;t have any weights until the first call\n",
              "# to a training/evaluation method (since it isn&#x27;t yet built):\n",
              "model = tf.keras.Sequential()\n",
              "model.add(tf.keras.layers.Dense(8))\n",
              "model.add(tf.keras.layers.Dense(4))\n",
              "# model.weights not created yet\n",
              "\n",
              "# Whereas if you specify an `Input`, the model gets built\n",
              "# continuously as you are adding layers:\n",
              "model = tf.keras.Sequential()\n",
              "model.add(tf.keras.Input(shape=(16,)))\n",
              "model.add(tf.keras.layers.Dense(4))\n",
              "len(model.weights)\n",
              "# Returns &quot;2&quot;\n",
              "\n",
              "# When using the delayed-build pattern (no input shape specified), you can\n",
              "# choose to manually build your model by calling\n",
              "# `build(batch_input_shape)`:\n",
              "model = tf.keras.Sequential()\n",
              "model.add(tf.keras.layers.Dense(8))\n",
              "model.add(tf.keras.layers.Dense(4))\n",
              "model.build((None, 16))\n",
              "len(model.weights)\n",
              "# Returns &quot;4&quot;\n",
              "\n",
              "# Note that when using the delayed-build pattern (no input shape specified),\n",
              "# the model gets built the first time you call `fit`, `eval`, or `predict`,\n",
              "# or the first time you call the model on some input data.\n",
              "model = tf.keras.Sequential()\n",
              "model.add(tf.keras.layers.Dense(8))\n",
              "model.add(tf.keras.layers.Dense(1))\n",
              "model.compile(optimizer=&#x27;sgd&#x27;, loss=&#x27;mse&#x27;)\n",
              "# This builds the model for the first time:\n",
              "model.fit(x, y, batch_size=32, epochs=10)\n",
              "```</pre>\n",
              "      <script>\n",
              "      if (google.colab.kernel.accessAllowed && google.colab.files && google.colab.files.view) {\n",
              "        for (const element of document.querySelectorAll('.filepath')) {\n",
              "          element.style.display = 'block'\n",
              "          element.onclick = (event) => {\n",
              "            event.preventDefault();\n",
              "            event.stopPropagation();\n",
              "            google.colab.files.view(element.textContent, 47);\n",
              "          };\n",
              "        }\n",
              "      }\n",
              "      for (const element of document.querySelectorAll('.function-repr-contents')) {\n",
              "        element.onclick = (event) => {\n",
              "          event.preventDefault();\n",
              "          event.stopPropagation();\n",
              "          element.classList.toggle('function-repr-contents-collapsed');\n",
              "        };\n",
              "      }\n",
              "      </script>\n",
              "      </div>"
            ]
          },
          "metadata": {},
          "execution_count": 26
        }
      ]
    },
    {
      "cell_type": "code",
      "source": [
        "model.layers"
      ],
      "metadata": {
        "colab": {
          "base_uri": "https://localhost:8080/"
        },
        "id": "62xrVyptZJ5Q",
        "outputId": "24cd6806-de43-4a38-faf1-538696d26ba4"
      },
      "execution_count": 27,
      "outputs": [
        {
          "output_type": "execute_result",
          "data": {
            "text/plain": [
              "[<keras.src.layers.convolutional.conv2d.Conv2D at 0x7941c0bd4520>,\n",
              " <keras.src.layers.convolutional.conv2d.Conv2D at 0x7941c0bd6110>,\n",
              " <keras.src.layers.pooling.max_pooling2d.MaxPooling2D at 0x7941c0bd6050>,\n",
              " <keras.src.layers.reshaping.flatten.Flatten at 0x7941c0bd4190>,\n",
              " <keras.src.layers.core.dense.Dense at 0x7941c09e5c60>,\n",
              " <keras.src.layers.core.dense.Dense at 0x7941c09e6170>]"
            ]
          },
          "metadata": {},
          "execution_count": 27
        }
      ]
    },
    {
      "cell_type": "code",
      "source": [
        "first_conv = model.layers[0]\n",
        "first_conv"
      ],
      "metadata": {
        "colab": {
          "base_uri": "https://localhost:8080/"
        },
        "id": "1gMZ6hIcZMGa",
        "outputId": "74438e5f-d99d-4064-cc44-96e55629dc07"
      },
      "execution_count": 28,
      "outputs": [
        {
          "output_type": "execute_result",
          "data": {
            "text/plain": [
              "<keras.src.layers.convolutional.conv2d.Conv2D at 0x7941c0bd4520>"
            ]
          },
          "metadata": {},
          "execution_count": 28
        }
      ]
    },
    {
      "cell_type": "code",
      "source": [
        "first_conv.activation"
      ],
      "metadata": {
        "colab": {
          "base_uri": "https://localhost:8080/",
          "height": 186
        },
        "id": "SpoaynK5ZUY-",
        "outputId": "192b66cd-c7da-4011-8e80-20817846d33a"
      },
      "execution_count": 29,
      "outputs": [
        {
          "output_type": "execute_result",
          "data": {
            "text/plain": [
              "<function keras.src.activations.relu(x, alpha=0.0, max_value=None, threshold=0.0)>"
            ],
            "text/html": [
              "<div style=\"max-width:800px; border: 1px solid var(--colab-border-color);\"><style>\n",
              "      pre.function-repr-contents {\n",
              "        overflow-x: auto;\n",
              "        padding: 8px 12px;\n",
              "        max-height: 500px;\n",
              "      }\n",
              "\n",
              "      pre.function-repr-contents.function-repr-contents-collapsed {\n",
              "        cursor: pointer;\n",
              "        max-height: 100px;\n",
              "      }\n",
              "    </style>\n",
              "    <pre style=\"white-space: initial; background:\n",
              "         var(--colab-secondary-surface-color); padding: 8px 12px;\n",
              "         border-bottom: 1px solid var(--colab-border-color);\"><b>keras.src.activations.relu</b><br/>def relu(x, alpha=0.0, max_value=None, threshold=0.0)</pre><pre class=\"function-repr-contents function-repr-contents-collapsed\" style=\"\"><a class=\"filepath\" style=\"display:none\" href=\"#\">/usr/local/lib/python3.10/dist-packages/keras/src/activations.py</a>Applies the rectified linear unit activation function.\n",
              "\n",
              "With default values, this returns the standard ReLU activation:\n",
              "`max(x, 0)`, the element-wise maximum of 0 and the input tensor.\n",
              "\n",
              "Modifying default parameters allows you to use non-zero thresholds,\n",
              "change the max value of the activation,\n",
              "and to use a non-zero multiple of the input for values below the threshold.\n",
              "\n",
              "Example:\n",
              "\n",
              "&gt;&gt;&gt; foo = tf.constant([-10, -5, 0.0, 5, 10], dtype = tf.float32)\n",
              "&gt;&gt;&gt; tf.keras.activations.relu(foo).numpy()\n",
              "array([ 0.,  0.,  0.,  5., 10.], dtype=float32)\n",
              "&gt;&gt;&gt; tf.keras.activations.relu(foo, alpha=0.5).numpy()\n",
              "array([-5. , -2.5,  0. ,  5. , 10. ], dtype=float32)\n",
              "&gt;&gt;&gt; tf.keras.activations.relu(foo, max_value=5.).numpy()\n",
              "array([0., 0., 0., 5., 5.], dtype=float32)\n",
              "&gt;&gt;&gt; tf.keras.activations.relu(foo, threshold=5.).numpy()\n",
              "array([-0., -0.,  0.,  0., 10.], dtype=float32)\n",
              "\n",
              "Args:\n",
              "    x: Input `tensor` or `variable`.\n",
              "    alpha: A `float` that governs the slope for values lower than the\n",
              "        threshold.\n",
              "    max_value: A `float` that sets the saturation threshold (the largest\n",
              "        value the function will return).\n",
              "    threshold: A `float` giving the threshold value of the activation\n",
              "        function below which values will be damped or set to zero.\n",
              "\n",
              "Returns:\n",
              "    A `Tensor` representing the input tensor, transformed by the relu\n",
              "    activation function. Tensor will be of the same shape and dtype of\n",
              "    input `x`.</pre>\n",
              "      <script>\n",
              "      if (google.colab.kernel.accessAllowed && google.colab.files && google.colab.files.view) {\n",
              "        for (const element of document.querySelectorAll('.filepath')) {\n",
              "          element.style.display = 'block'\n",
              "          element.onclick = (event) => {\n",
              "            event.preventDefault();\n",
              "            event.stopPropagation();\n",
              "            google.colab.files.view(element.textContent, 268);\n",
              "          };\n",
              "        }\n",
              "      }\n",
              "      for (const element of document.querySelectorAll('.function-repr-contents')) {\n",
              "        element.onclick = (event) => {\n",
              "          event.preventDefault();\n",
              "          event.stopPropagation();\n",
              "          element.classList.toggle('function-repr-contents-collapsed');\n",
              "        };\n",
              "      }\n",
              "      </script>\n",
              "      </div>"
            ]
          },
          "metadata": {},
          "execution_count": 29
        }
      ]
    },
    {
      "cell_type": "code",
      "source": [
        "first_conv.filters"
      ],
      "metadata": {
        "colab": {
          "base_uri": "https://localhost:8080/"
        },
        "id": "VUaaYmEWZY7l",
        "outputId": "9752a6a8-207b-4f4e-ade1-df8143c26c57"
      },
      "execution_count": 30,
      "outputs": [
        {
          "output_type": "execute_result",
          "data": {
            "text/plain": [
              "12"
            ]
          },
          "metadata": {},
          "execution_count": 30
        }
      ]
    },
    {
      "cell_type": "code",
      "source": [
        "first_conv.count_params()"
      ],
      "metadata": {
        "colab": {
          "base_uri": "https://localhost:8080/"
        },
        "id": "aaiuIrfAZeBl",
        "outputId": "143ecdf3-622c-4ee6-f8b6-a34dc2597aa3"
      },
      "execution_count": 31,
      "outputs": [
        {
          "output_type": "execute_result",
          "data": {
            "text/plain": [
              "120"
            ]
          },
          "metadata": {},
          "execution_count": 31
        }
      ]
    },
    {
      "cell_type": "code",
      "source": [
        "first_conv.weights[0].numpy().shape"
      ],
      "metadata": {
        "colab": {
          "base_uri": "https://localhost:8080/"
        },
        "id": "sooDDgreZlP0",
        "outputId": "455b3e80-e0ba-4ed0-8830-2c09236d6074"
      },
      "execution_count": 32,
      "outputs": [
        {
          "output_type": "execute_result",
          "data": {
            "text/plain": [
              "(3, 3, 1, 12)"
            ]
          },
          "metadata": {},
          "execution_count": 32
        }
      ]
    },
    {
      "cell_type": "code",
      "source": [
        "first_conv.weights[0].numpy()"
      ],
      "metadata": {
        "colab": {
          "base_uri": "https://localhost:8080/"
        },
        "id": "MuPt3iMCZvTz",
        "outputId": "ed608c73-baa3-4f34-b474-4e99f8a93a8c"
      },
      "execution_count": 33,
      "outputs": [
        {
          "output_type": "execute_result",
          "data": {
            "text/plain": [
              "array([[[[ 0.46093452,  0.28039637, -0.5917449 , -0.0827463 ,\n",
              "          -0.19883609,  0.04517274,  0.00211991,  0.00758829,\n",
              "          -0.2777679 ,  0.23790693, -0.36074385,  0.27250198]],\n",
              "\n",
              "        [[ 0.17502877,  0.03778756,  0.22270757,  0.40074173,\n",
              "           0.3023611 , -0.47582784, -0.11678926,  0.04176866,\n",
              "           0.1407195 ,  0.5380425 ,  0.177623  , -0.15319009]],\n",
              "\n",
              "        [[ 0.04731036, -0.06231477,  0.16905384,  0.44840354,\n",
              "           0.38658586, -0.48705286, -0.01207638, -0.14981236,\n",
              "           0.15608616,  0.21429776,  0.37162462, -0.4743655 ]]],\n",
              "\n",
              "\n",
              "       [[[ 0.05981989,  0.45585835, -0.17875414,  0.17761824,\n",
              "           0.2301666 ,  0.21409447, -0.05240634,  0.46889323,\n",
              "          -0.16060494,  0.3030849 , -0.36829248,  0.27949843]],\n",
              "\n",
              "        [[ 0.19460757,  0.38695478,  0.09015727, -0.1913722 ,\n",
              "           0.23379628,  0.03471335,  0.24800247,  0.39961642,\n",
              "          -0.02125324,  0.2614575 , -0.57349265,  0.25388747]],\n",
              "\n",
              "        [[ 0.27303666,  0.00931063, -0.08946234, -0.04237133,\n",
              "          -0.0285502 , -0.00186958,  0.19205238,  0.07527936,\n",
              "           0.5156195 , -0.14999428,  0.28095984, -0.38959453]]],\n",
              "\n",
              "\n",
              "       [[[-0.3366938 , -0.06528529,  0.30411607, -0.5147983 ,\n",
              "           0.2554013 ,  0.28429782,  0.26571724,  0.15779868,\n",
              "          -0.20637272, -0.19928604,  0.09927425,  0.3918593 ]],\n",
              "\n",
              "        [[-0.3783531 ,  0.06816878,  0.03391418, -0.28517634,\n",
              "          -0.13489896,  0.39398268,  0.06213643,  0.39094695,\n",
              "           0.18085946, -0.10163739, -0.22053716,  0.18140864]],\n",
              "\n",
              "        [[-0.11365094, -0.05304687,  0.34059423, -0.3264698 ,\n",
              "          -0.1898945 ,  0.3613128 ,  0.3632192 , -0.21025471,\n",
              "           0.41291362, -0.47656685, -0.12663528, -0.26704496]]]],\n",
              "      dtype=float32)"
            ]
          },
          "metadata": {},
          "execution_count": 33
        }
      ]
    },
    {
      "cell_type": "code",
      "source": [
        "x_test_f.shape"
      ],
      "metadata": {
        "colab": {
          "base_uri": "https://localhost:8080/"
        },
        "id": "7_Zr2_kPaLfw",
        "outputId": "2a30f905-b960-4c44-d312-48e49c5f9400"
      },
      "execution_count": 34,
      "outputs": [
        {
          "output_type": "execute_result",
          "data": {
            "text/plain": [
              "(10000, 28, 28, 1)"
            ]
          },
          "metadata": {},
          "execution_count": 34
        }
      ]
    },
    {
      "cell_type": "code",
      "source": [
        "layers_output = []\n",
        "out = x_test_f.copy()\n",
        "out.shape"
      ],
      "metadata": {
        "colab": {
          "base_uri": "https://localhost:8080/"
        },
        "id": "GsNgCTmFaTO3",
        "outputId": "e1d8a5fc-c2e8-491b-bccf-130f554d69b0"
      },
      "execution_count": 35,
      "outputs": [
        {
          "output_type": "execute_result",
          "data": {
            "text/plain": [
              "(10000, 28, 28, 1)"
            ]
          },
          "metadata": {},
          "execution_count": 35
        }
      ]
    },
    {
      "cell_type": "code",
      "source": [
        "# floor ( (n + 2 * p - f) / s + 1 )\n",
        "first_conv(x_test_f).shape"
      ],
      "metadata": {
        "colab": {
          "base_uri": "https://localhost:8080/"
        },
        "id": "WR03zlI9b-ln",
        "outputId": "5c488207-ba88-4882-8c7c-c6ae3c4bb49f"
      },
      "execution_count": 36,
      "outputs": [
        {
          "output_type": "execute_result",
          "data": {
            "text/plain": [
              "TensorShape([10000, 26, 26, 12])"
            ]
          },
          "metadata": {},
          "execution_count": 36
        }
      ]
    },
    {
      "cell_type": "code",
      "source": [
        "for layer in model.layers:\n",
        "  out = layer(out)\n",
        "  print(out.shape)\n",
        "  layers_output.append(out)"
      ],
      "metadata": {
        "colab": {
          "base_uri": "https://localhost:8080/"
        },
        "id": "CqsiVYq4agYP",
        "outputId": "2084540b-8539-4505-c906-84d12a416aa0"
      },
      "execution_count": 37,
      "outputs": [
        {
          "output_type": "stream",
          "name": "stdout",
          "text": [
            "(10000, 26, 26, 12)\n",
            "(10000, 24, 24, 16)\n",
            "(10000, 12, 12, 16)\n",
            "(10000, 2304)\n",
            "(10000, 16)\n",
            "(10000, 10)\n"
          ]
        }
      ]
    },
    {
      "cell_type": "code",
      "source": [
        "n = 10 # the nth image in the test set"
      ],
      "metadata": {
        "id": "WTmwvyT-dWxa"
      },
      "execution_count": 38,
      "outputs": []
    },
    {
      "cell_type": "code",
      "source": [
        "plt.imshow(x_test[n], cmap='gray')"
      ],
      "metadata": {
        "colab": {
          "base_uri": "https://localhost:8080/",
          "height": 448
        },
        "id": "KOjFq4LId4g0",
        "outputId": "97e48adc-edf6-4a82-8d8e-45ad502f6546"
      },
      "execution_count": 39,
      "outputs": [
        {
          "output_type": "execute_result",
          "data": {
            "text/plain": [
              "<matplotlib.image.AxesImage at 0x7941134e71f0>"
            ]
          },
          "metadata": {},
          "execution_count": 39
        },
        {
          "output_type": "display_data",
          "data": {
            "text/plain": [
              "<Figure size 640x480 with 1 Axes>"
            ],
            "image/png": "[encoded data removed]"
          },
          "metadata": {}
        }
      ]
    },
    {
      "cell_type": "code",
      "source": [
        "layers_output[0].shape"
      ],
      "metadata": {
        "colab": {
          "base_uri": "https://localhost:8080/"
        },
        "id": "jHaoC_kUd8H_",
        "outputId": "28fb2177-5abb-49a8-a667-8c305f7cfdd9"
      },
      "execution_count": 40,
      "outputs": [
        {
          "output_type": "execute_result",
          "data": {
            "text/plain": [
              "TensorShape([10000, 26, 26, 12])"
            ]
          },
          "metadata": {},
          "execution_count": 40
        }
      ]
    },
    {
      "cell_type": "code",
      "source": [
        "# First layer output\n",
        "current_layer_output = layers_output[0][n]"
      ],
      "metadata": {
        "id": "aJqNivlzeA3D"
      },
      "execution_count": 41,
      "outputs": []
    },
    {
      "cell_type": "code",
      "source": [
        "current_layer_output.shape"
      ],
      "metadata": {
        "colab": {
          "base_uri": "https://localhost:8080/"
        },
        "id": "Diw_HijSeOmm",
        "outputId": "fec5e082-b79a-4dea-991a-b19a3797ee91"
      },
      "execution_count": 42,
      "outputs": [
        {
          "output_type": "execute_result",
          "data": {
            "text/plain": [
              "TensorShape([26, 26, 12])"
            ]
          },
          "metadata": {},
          "execution_count": 42
        }
      ]
    },
    {
      "cell_type": "code",
      "source": [
        "fig, ax = plt.subplots(3, 3)\n",
        "for i in range(9):\n",
        "  ax[i // 3][i % 3].imshow(current_layer_output[:, :, i], cmap='gray')\n",
        "  ax[i // 3][i % 3].axis('off')\n",
        "plt.tight_layout()"
      ],
      "metadata": {
        "colab": {
          "base_uri": "https://localhost:8080/",
          "height": 486
        },
        "id": "IpsKyZ-GeQyF",
        "outputId": "fa1097c0-d9a7-46e8-9d83-ca11c872b518"
      },
      "execution_count": 43,
      "outputs": [
        {
          "output_type": "display_data",
          "data": {
            "text/plain": [
              "<Figure size 640x480 with 9 Axes>"
            ],
            "image/png": "[encoded data removed]"
          },
          "metadata": {}
        }
      ]
    },
    {
      "cell_type": "code",
      "source": [
        "# Second layer output\n",
        "current_layer_output = layers_output[1][n]\n",
        "print(current_layer_output.shape)\n",
        "fig, ax = plt.subplots(3, 3)\n",
        "for i in range(9):\n",
        "  ax[i // 3][i % 3].imshow(current_layer_output[:, :, i], cmap='gray')\n",
        "  ax[i // 3][i % 3].axis('off')\n",
        "plt.tight_layout()"
      ],
      "metadata": {
        "colab": {
          "base_uri": "https://localhost:8080/",
          "height": 504
        },
        "id": "BZPMpT2ue9wa",
        "outputId": "b90384e3-7944-42bb-8317-9e8017f8b3e6"
      },
      "execution_count": 44,
      "outputs": [
        {
          "output_type": "stream",
          "name": "stdout",
          "text": [
            "(24, 24, 16)\n"
          ]
        },
        {
          "output_type": "display_data",
          "data": {
            "text/plain": [
              "<Figure size 640x480 with 9 Axes>"
            ],
            "image/png": "[encoded data removed]"
          },
          "metadata": {}
        }
      ]
    },
    {
      "cell_type": "code",
      "source": [
        "# Third layer output\n",
        "current_layer_output = layers_output[2][n]\n",
        "print(current_layer_output.shape)\n",
        "fig, ax = plt.subplots(3, 3)\n",
        "for i in range(9):\n",
        "  ax[i // 3][i % 3].imshow(current_layer_output[:, :, i], cmap='gray')\n",
        "  ax[i // 3][i % 3].axis('off')\n",
        "plt.tight_layout()"
      ],
      "metadata": {
        "colab": {
          "base_uri": "https://localhost:8080/",
          "height": 504
        },
        "id": "HiFXjhmPfbjj",
        "outputId": "9e1b0505-50d5-4e9d-be22-8ac8021cdb3d"
      },
      "execution_count": 45,
      "outputs": [
        {
          "output_type": "stream",
          "name": "stdout",
          "text": [
            "(12, 12, 16)\n"
          ]
        },
        {
          "output_type": "display_data",
          "data": {
            "text/plain": [
              "<Figure size 640x480 with 9 Axes>"
            ],
            "image/png": "[encoded data removed]"
          },
          "metadata": {}
        }
      ]
    },
    {
      "cell_type": "code",
      "source": [
        "layers_output[4][n]"
      ],
      "metadata": {
        "colab": {
          "base_uri": "https://localhost:8080/"
        },
        "id": "0JTzl1dTf0b8",
        "outputId": "013c4207-c5a6-4fb3-ca1d-9268f4d724a7"
      },
      "execution_count": 46,
      "outputs": [
        {
          "output_type": "execute_result",
          "data": {
            "text/plain": [
              "<tf.Tensor: shape=(16,), dtype=float32, numpy=\n",
              "array([ 3.2488787 ,  0.        ,  9.77296   , 19.20738   ,  0.        ,\n",
              "        0.91580296, 17.903854  ,  0.        , 24.42079   , 12.673454  ,\n",
              "       15.125948  , 14.81032   ,  0.        ,  0.        ,  5.9694877 ,\n",
              "       14.572067  ], dtype=float32)>"
            ]
          },
          "metadata": {},
          "execution_count": 46
        }
      ]
    },
    {
      "cell_type": "code",
      "source": [
        "layers_output[5][n]"
      ],
      "metadata": {
        "colab": {
          "base_uri": "https://localhost:8080/"
        },
        "id": "r2bG4rvFf9py",
        "outputId": "b488e4fb-06c3-4f35-a60e-426971692280"
      },
      "execution_count": 47,
      "outputs": [
        {
          "output_type": "execute_result",
          "data": {
            "text/plain": [
              "<tf.Tensor: shape=(10,), dtype=float32, numpy=\n",
              "array([1.0000000e+00, 8.2568046e-16, 1.3919668e-10, 3.3130616e-14,\n",
              "       1.0836736e-22, 2.5818644e-10, 1.2123624e-09, 3.7475228e-14,\n",
              "       9.4785169e-10, 9.5339869e-09], dtype=float32)>"
            ]
          },
          "metadata": {},
          "execution_count": 47
        }
      ]
    },
    {
      "cell_type": "code",
      "source": [],
      "metadata": {
        "id": "hKxvspoAgCTb"
      },
      "execution_count": null,
      "outputs": []
    }
  ]
}