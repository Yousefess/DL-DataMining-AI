{
 "cells": [
  {
   "cell_type": "markdown",
   "metadata": {},
   "source": [
    "### Import libraries"
   ]
  },
  {
   "cell_type": "code",
   "execution_count": 1,
   "metadata": {},
   "outputs": [],
   "source": [
    "import numpy as np"
   ]
  },
  {
   "cell_type": "code",
   "execution_count": 2,
   "metadata": {},
   "outputs": [
    {
     "data": {
      "text/plain": [
       "array([[ 1.02300751, -1.30092561,  1.94294064, -0.59422381,  0.11086229],\n",
       "       [-0.71760955,  0.22496937,  1.33278814, -0.76823209, -0.46006862],\n",
       "       [ 0.96909267, -1.23439901,  0.8787908 , -0.7723703 , -1.06447984],\n",
       "       [-1.30054851, -0.74956279, -0.44833949, -0.29286497,  0.72749396]])"
      ]
     },
     "execution_count": 2,
     "metadata": {},
     "output_type": "execute_result"
    }
   ],
   "source": [
    "array = np.random.standard_normal((4, 5))\n",
    "array"
   ]
  },
  {
   "cell_type": "code",
   "execution_count": 3,
   "metadata": {},
   "outputs": [
    {
     "data": {
      "text/plain": [
       "array([ 1.02300751, -1.30092561,  1.94294064, -0.59422381,  0.11086229,\n",
       "       -0.71760955,  0.22496937,  1.33278814, -0.76823209, -0.46006862,\n",
       "        0.96909267, -1.23439901,  0.8787908 , -0.7723703 , -1.06447984,\n",
       "       -1.30054851, -0.74956279, -0.44833949, -0.29286497,  0.72749396])"
      ]
     },
     "execution_count": 3,
     "metadata": {},
     "output_type": "execute_result"
    }
   ],
   "source": [
    "array.reshape((20, ))"
   ]
  },
  {
   "cell_type": "code",
   "execution_count": 4,
   "metadata": {},
   "outputs": [
    {
     "data": {
      "text/plain": [
       "(array([ 0.        ,  0.34959881,  0.6550779 ,  0.8778855 ,  0.98990308,\n",
       "         0.97699389,  0.84078711,  0.59847214,  0.2806294 , -0.07262906,\n",
       "        -0.41672165, -0.70822356, -0.91034694, -0.99758364, -0.95892427]),\n",
       " array([ 1.        ,  0.9368995 ,  0.75556135,  0.4788706 ,  0.1417459 ,\n",
       "        -0.21326728, -0.5413659 , -0.80114362, -0.9598162 , -0.99735902,\n",
       "        -0.90903414, -0.70598824, -0.41384591, -0.06947582,  0.28366219]))"
      ]
     },
     "execution_count": 4,
     "metadata": {},
     "output_type": "execute_result"
    }
   ],
   "source": [
    "x = np.linspace(0, 5, 15)\n",
    "sinx = np.sin(x)\n",
    "cosx = np.cos(x)\n",
    "sinx, cosx"
   ]
  },
  {
   "cell_type": "code",
   "execution_count": 5,
   "metadata": {},
   "outputs": [
    {
     "data": {
      "text/plain": [
       "1.096139366513961"
      ]
     },
     "execution_count": 5,
     "metadata": {},
     "output_type": "execute_result"
    }
   ],
   "source": [
    "np.dot(sinx, cosx)"
   ]
  },
  {
   "cell_type": "code",
   "execution_count": 6,
   "metadata": {},
   "outputs": [
    {
     "data": {
      "text/plain": [
       "array([1., 1., 1., 1., 1.])"
      ]
     },
     "execution_count": 6,
     "metadata": {},
     "output_type": "execute_result"
    }
   ],
   "source": [
    "ones = np.ones((5, ))\n",
    "ones"
   ]
  },
  {
   "cell_type": "code",
   "execution_count": 7,
   "metadata": {},
   "outputs": [
    {
     "data": {
      "text/plain": [
       "array([-2., -1.,  0.,  1.,  2.])"
      ]
     },
     "execution_count": 7,
     "metadata": {},
     "output_type": "execute_result"
    }
   ],
   "source": [
    "line_space = np.linspace(-2, 2, 5)\n",
    "line_space"
   ]
  },
  {
   "cell_type": "code",
   "execution_count": 8,
   "metadata": {},
   "outputs": [
    {
     "data": {
      "text/plain": [
       "array([[-2., -1.,  0.,  1.,  2.],\n",
       "       [-2., -1.,  0.,  1.,  2.],\n",
       "       [-2., -1.,  0.,  1.,  2.],\n",
       "       [-2., -1.,  0.,  1.,  2.],\n",
       "       [-2., -1.,  0.,  1.,  2.]])"
      ]
     },
     "execution_count": 8,
     "metadata": {},
     "output_type": "execute_result"
    }
   ],
   "source": [
    "rl = np.outer(ones, line_space)\n",
    "rl"
   ]
  },
  {
   "cell_type": "markdown",
   "metadata": {},
   "source": [
    "### np.dot"
   ]
  },
  {
   "cell_type": "code",
   "execution_count": 9,
   "metadata": {},
   "outputs": [
    {
     "data": {
      "text/plain": [
       "array([[3., 3., 3., 3., 3.],\n",
       "       [3., 3., 3., 3., 3.],\n",
       "       [3., 3., 3., 3., 3.],\n",
       "       [3., 3., 3., 3., 3.],\n",
       "       [3., 3., 3., 3., 3.],\n",
       "       [3., 3., 3., 3., 3.]])"
      ]
     },
     "execution_count": 9,
     "metadata": {},
     "output_type": "execute_result"
    }
   ],
   "source": [
    "ones = np.ones((6, 5)) * 3\n",
    "ones"
   ]
  },
  {
   "cell_type": "code",
   "execution_count": 10,
   "metadata": {},
   "outputs": [
    {
     "data": {
      "text/plain": [
       "(6, 5)"
      ]
     },
     "execution_count": 10,
     "metadata": {},
     "output_type": "execute_result"
    }
   ],
   "source": [
    "ones.shape"
   ]
  },
  {
   "cell_type": "code",
   "execution_count": 11,
   "metadata": {},
   "outputs": [
    {
     "data": {
      "text/plain": [
       "array([[3., 3., 3., 3., 3., 3.],\n",
       "       [3., 3., 3., 3., 3., 3.],\n",
       "       [3., 3., 3., 3., 3., 3.],\n",
       "       [3., 3., 3., 3., 3., 3.],\n",
       "       [3., 3., 3., 3., 3., 3.]])"
      ]
     },
     "execution_count": 11,
     "metadata": {},
     "output_type": "execute_result"
    }
   ],
   "source": [
    "ones_reshaped = ones.reshape(5, 6)\n",
    "ones_reshaped"
   ]
  },
  {
   "cell_type": "code",
   "execution_count": 12,
   "metadata": {},
   "outputs": [
    {
     "data": {
      "text/plain": [
       "array([[54., 54., 54., 54., 54.],\n",
       "       [54., 54., 54., 54., 54.],\n",
       "       [54., 54., 54., 54., 54.],\n",
       "       [54., 54., 54., 54., 54.],\n",
       "       [54., 54., 54., 54., 54.]])"
      ]
     },
     "execution_count": 12,
     "metadata": {},
     "output_type": "execute_result"
    }
   ],
   "source": [
    "np.dot(ones_reshaped , ones)"
   ]
  },
  {
   "cell_type": "code",
   "execution_count": 13,
   "metadata": {},
   "outputs": [],
   "source": [
    "A = np.array([\n",
    "    [1, 2],\n",
    "    [3, 5],\n",
    "    [7, 6]\n",
    "])\n",
    "p = np.diag([5, 5, 5])\n",
    "l = np.array([7, 3, 2]).reshape((3, 1))"
   ]
  },
  {
   "cell_type": "code",
   "execution_count": 14,
   "metadata": {},
   "outputs": [
    {
     "data": {
      "text/plain": [
       "array([[-1.32485876],\n",
       "       [ 1.83333333]])"
      ]
     },
     "execution_count": 14,
     "metadata": {},
     "output_type": "execute_result"
    }
   ],
   "source": [
    "np.dot(np.dot(np.dot(np.linalg.inv(np.dot(np.dot(A.T, p), A)), A.T), p), l)"
   ]
  },
  {
   "cell_type": "markdown",
   "metadata": {},
   "source": [
    "### Numpy where"
   ]
  },
  {
   "cell_type": "code",
   "execution_count": 15,
   "metadata": {},
   "outputs": [
    {
     "data": {
      "text/plain": [
       "array([3, 4])"
      ]
     },
     "execution_count": 15,
     "metadata": {},
     "output_type": "execute_result"
    }
   ],
   "source": [
    "array = np.array([1, 2, 3, 4])\n",
    "rows = np.where(array >= 2.5)\n",
    "array[rows]"
   ]
  },
  {
   "cell_type": "code",
   "execution_count": 16,
   "metadata": {},
   "outputs": [
    {
     "data": {
      "text/plain": [
       "array([['1', '2', '3', 'foo'],\n",
       "       ['2', '3', '4', 'bar'],\n",
       "       ['5', '6', '7', 'hello'],\n",
       "       ['8', '9', '1', 'bar']], dtype='<U21')"
      ]
     },
     "execution_count": 16,
     "metadata": {},
     "output_type": "execute_result"
    }
   ],
   "source": [
    "t = np.array([\n",
    "    [1, 2, 3, 'foo'],\n",
    "    [2, 3, 4, 'bar'],\n",
    "    [5, 6, 7, 'hello'],\n",
    "    [8, 9, 1, 'bar']\n",
    "])\n",
    "t"
   ]
  },
  {
   "cell_type": "code",
   "execution_count": 17,
   "metadata": {},
   "outputs": [
    {
     "data": {
      "text/plain": [
       "array([['2', '3', '4', 'bar'],\n",
       "       ['8', '9', '1', 'bar']], dtype='<U21')"
      ]
     },
     "execution_count": 17,
     "metadata": {},
     "output_type": "execute_result"
    }
   ],
   "source": [
    "rows, cols = np.where(t == 'bar')\n",
    "t[rows]"
   ]
  },
  {
   "cell_type": "code",
   "execution_count": 18,
   "metadata": {},
   "outputs": [
    {
     "data": {
      "text/plain": [
       "(array([1, 3]), array([3, 3]))"
      ]
     },
     "execution_count": 18,
     "metadata": {},
     "output_type": "execute_result"
    }
   ],
   "source": [
    "rows, cols"
   ]
  },
  {
   "cell_type": "code",
   "execution_count": 19,
   "metadata": {},
   "outputs": [
    {
     "data": {
      "text/plain": [
       "array([[[ 0.633759  ,  0.7103308 ,  0.90678985],\n",
       "        [-0.69161945,  1.23615247,  0.66952832],\n",
       "        [ 0.20701374, -0.76835813, -1.70808611],\n",
       "        [ 0.35791232, -0.37270567,  0.15066041],\n",
       "        [ 0.61112044,  0.28877807, -1.7395657 ]],\n",
       "\n",
       "       [[-0.55971668,  1.63347374,  0.33013999],\n",
       "        [ 0.59442012, -0.07556218, -2.06853164],\n",
       "        [ 0.99574266,  0.63369286, -0.46416482],\n",
       "        [-0.36702993, -0.84967407,  0.30153776],\n",
       "        [-0.67802922, -0.31548178,  1.10717178]],\n",
       "\n",
       "       [[-0.82038278, -1.50689976, -0.76176671],\n",
       "        [-2.2593054 , -0.58483709, -1.49368653],\n",
       "        [-0.0740965 ,  0.66812697, -0.52157792],\n",
       "        [ 0.52756394,  1.32032059,  0.61965218],\n",
       "        [ 0.01987798, -0.67588517,  0.97541127]],\n",
       "\n",
       "       [[ 1.20735263,  0.70421268, -0.43702273],\n",
       "        [ 0.2060814 , -0.39052401,  0.12814961],\n",
       "        [-0.07880603, -0.13204532, -1.18715842],\n",
       "        [ 0.72185538,  0.15463189,  1.47811264],\n",
       "        [ 0.35613855,  0.41686257,  1.18536554]],\n",
       "\n",
       "       [[ 0.19111137,  0.88546649, -0.59160565],\n",
       "        [ 0.04023055,  0.26257122,  0.43575536],\n",
       "        [-2.1651002 ,  0.85842177,  0.60658449],\n",
       "        [-0.76126937,  1.55209902,  1.52208609],\n",
       "        [-0.76620688, -0.8743387 ,  0.21485243]]])"
      ]
     },
     "execution_count": 19,
     "metadata": {},
     "output_type": "execute_result"
    }
   ],
   "source": [
    "array = np.random.standard_normal((5, 5, 3))\n",
    "array"
   ]
  },
  {
   "cell_type": "code",
   "execution_count": 20,
   "metadata": {},
   "outputs": [
    {
     "data": {
      "text/plain": [
       "array([1.23615247, 1.63347374, 1.10717178, 1.32032059, 1.20735263,\n",
       "       1.47811264, 1.18536554, 1.55209902, 1.52208609])"
      ]
     },
     "execution_count": 20,
     "metadata": {},
     "output_type": "execute_result"
    }
   ],
   "source": [
    "rows, cols, heights = np.where(array >= 1)\n",
    "array[rows, cols, heights]"
   ]
  },
  {
   "cell_type": "code",
   "execution_count": 21,
   "metadata": {},
   "outputs": [
    {
     "data": {
      "text/plain": [
       "(array([0, 1, 1, 2, 3, 3, 3, 4, 4]),\n",
       " array([1, 0, 4, 3, 0, 3, 4, 3, 3]),\n",
       " array([1, 1, 2, 1, 0, 2, 2, 1, 2]))"
      ]
     },
     "execution_count": 21,
     "metadata": {},
     "output_type": "execute_result"
    }
   ],
   "source": [
    "rows, cols, heights"
   ]
  },
  {
   "cell_type": "code",
   "execution_count": null,
   "metadata": {},
   "outputs": [],
   "source": []
  }
 ],
 "metadata": {
  "kernelspec": {
   "display_name": "base",
   "language": "python",
   "name": "python3"
  },
  "language_info": {
   "codemirror_mode": {
    "name": "ipython",
    "version": 3
   },
   "file_extension": ".py",
   "mimetype": "text/x-python",
   "name": "python",
   "nbconvert_exporter": "python",
   "pygments_lexer": "ipython3",
   "version": "3.10.13"
  }
 },
 "nbformat": 4,
 "nbformat_minor": 2
}
