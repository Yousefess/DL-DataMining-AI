{
 "cells": [
  {
   "cell_type": "markdown",
   "metadata": {},
   "source": [
    "#### Import Library"
   ]
  },
  {
   "cell_type": "code",
   "execution_count": 1,
   "metadata": {},
   "outputs": [],
   "source": [
    "import numpy as np"
   ]
  },
  {
   "cell_type": "markdown",
   "metadata": {},
   "source": [
    "1. Write a NumPy program to create a 5x5 array with random values and find the minimum and maximum values."
   ]
  },
  {
   "cell_type": "code",
   "execution_count": 2,
   "metadata": {},
   "outputs": [
    {
     "data": {
      "text/plain": [
       "array([[0.03132343, 0.41062172, 0.64939218, 0.56210044, 0.4731147 ],\n",
       "       [0.64747597, 0.20984036, 0.85718548, 0.70787429, 0.00275631],\n",
       "       [0.51588799, 0.10341337, 0.77299712, 0.44251641, 0.96302691],\n",
       "       [0.51760792, 0.2725623 , 0.89166985, 0.15570873, 0.6041456 ],\n",
       "       [0.1144692 , 0.36547992, 0.34955006, 0.7166442 , 0.985266  ]])"
      ]
     },
     "execution_count": 2,
     "metadata": {},
     "output_type": "execute_result"
    }
   ],
   "source": [
    "# Create the random array 5x5\n",
    "array_1 = np.random.rand(5, 5)\n",
    "array_1"
   ]
  },
  {
   "cell_type": "code",
   "execution_count": 3,
   "metadata": {},
   "outputs": [
    {
     "name": "stdout",
     "output_type": "stream",
     "text": [
      "Maximum value of the array_1: 0.9852659998978901\n",
      "Minimum value of the array_1: 0.002756310275335294\n"
     ]
    }
   ],
   "source": [
    "# Find the maximum and minimum value\n",
    "print(f\"Maximum value of the array_1: {np.max(array_1)}\")\n",
    "print(f\"Minimum value of the array_1: {np.min(array_1)}\")"
   ]
  },
  {
   "cell_type": "markdown",
   "metadata": {},
   "source": [
    "2. Write a NumPy program to create a random 10x4 array and extract the first five rows of the array and store them into a variable."
   ]
  },
  {
   "cell_type": "code",
   "execution_count": 4,
   "metadata": {},
   "outputs": [
    {
     "data": {
      "text/plain": [
       "array([[0.17721937, 0.89001937, 0.97653172, 0.23509488],\n",
       "       [0.0517094 , 0.3095999 , 0.1428093 , 0.59022516],\n",
       "       [0.94102449, 0.48124189, 0.34772811, 0.0721409 ],\n",
       "       [0.13507308, 0.49465797, 0.38963413, 0.0358029 ],\n",
       "       [0.76543762, 0.23497062, 0.32421815, 0.65882024],\n",
       "       [0.44916998, 0.0379589 , 0.40060233, 0.3890994 ],\n",
       "       [0.18350419, 0.79636303, 0.99433867, 0.65153998],\n",
       "       [0.13766616, 0.83007528, 0.76013032, 0.36523877],\n",
       "       [0.9797893 , 0.96493995, 0.82760085, 0.6820059 ],\n",
       "       [0.55736322, 0.15068696, 0.860666  , 0.63928579]])"
      ]
     },
     "execution_count": 4,
     "metadata": {},
     "output_type": "execute_result"
    }
   ],
   "source": [
    "# Create the random array 10x4\n",
    "array_2 = np.random.rand(10, 4)\n",
    "array_2"
   ]
  },
  {
   "cell_type": "code",
   "execution_count": 5,
   "metadata": {},
   "outputs": [
    {
     "data": {
      "text/plain": [
       "array([[0.17721937, 0.89001937, 0.97653172, 0.23509488],\n",
       "       [0.0517094 , 0.3095999 , 0.1428093 , 0.59022516],\n",
       "       [0.94102449, 0.48124189, 0.34772811, 0.0721409 ],\n",
       "       [0.13507308, 0.49465797, 0.38963413, 0.0358029 ],\n",
       "       [0.76543762, 0.23497062, 0.32421815, 0.65882024]])"
      ]
     },
     "execution_count": 5,
     "metadata": {},
     "output_type": "execute_result"
    }
   ],
   "source": [
    "# Extract the five first rows of array_2\n",
    "f_five_rows = array_2[:5, :]\n",
    "f_five_rows"
   ]
  },
  {
   "cell_type": "markdown",
   "metadata": {},
   "source": [
    "3. Write a NumPy program to create random vector of size 15 and replace the maximum value by -1."
   ]
  },
  {
   "cell_type": "code",
   "execution_count": 6,
   "metadata": {},
   "outputs": [
    {
     "data": {
      "text/plain": [
       "(array([0.92546959, 0.02389043, 0.55167065, 0.68646546, 0.01885392,\n",
       "        0.43590663, 0.10881927, 0.14515907, 0.99579142, 0.75821183,\n",
       "        0.76666786, 0.46632929, 0.95670062, 0.93530852, 0.49725453]),\n",
       " (15,))"
      ]
     },
     "execution_count": 6,
     "metadata": {},
     "output_type": "execute_result"
    }
   ],
   "source": [
    "# Create the random vector 15\n",
    "vector = np.random.random(15)\n",
    "vector, vector.shape"
   ]
  },
  {
   "cell_type": "code",
   "execution_count": 7,
   "metadata": {},
   "outputs": [
    {
     "data": {
      "text/plain": [
       "(0.9957914198287979, 8)"
      ]
     },
     "execution_count": 7,
     "metadata": {},
     "output_type": "execute_result"
    }
   ],
   "source": [
    "# Maximum value and index\n",
    "np.max(vector), np.argmax(vector)"
   ]
  },
  {
   "cell_type": "code",
   "execution_count": 8,
   "metadata": {},
   "outputs": [
    {
     "data": {
      "text/plain": [
       "array([ 0.92546959,  0.02389043,  0.55167065,  0.68646546,  0.01885392,\n",
       "        0.43590663,  0.10881927,  0.14515907, -1.        ,  0.75821183,\n",
       "        0.76666786,  0.46632929,  0.95670062,  0.93530852,  0.49725453])"
      ]
     },
     "execution_count": 8,
     "metadata": {},
     "output_type": "execute_result"
    }
   ],
   "source": [
    "# Replace the maximum value by -1\n",
    "vector[np.argmax(vector)] = -1\n",
    "vector"
   ]
  },
  {
   "cell_type": "markdown",
   "metadata": {},
   "source": [
    "4. normalize an array so the values range exactly between 0 and 1?"
   ]
  },
  {
   "cell_type": "code",
   "execution_count": 9,
   "metadata": {},
   "outputs": [
    {
     "data": {
      "text/plain": [
       "array([[ 1,  2,  3,  4,  5],\n",
       "       [ 6,  7,  8,  9, 10],\n",
       "       [11, 12, 13, 14, 15]])"
      ]
     },
     "execution_count": 9,
     "metadata": {},
     "output_type": "execute_result"
    }
   ],
   "source": [
    "# Create an array\n",
    "array_3 = np.array([\n",
    "    [1, 2, 3, 4, 5],\n",
    "    [6, 7, 8, 9, 10],\n",
    "    [11, 12, 13, 14, 15]\n",
    "])\n",
    "array_3"
   ]
  },
  {
   "cell_type": "code",
   "execution_count": 10,
   "metadata": {},
   "outputs": [
    {
     "data": {
      "text/plain": [
       "array([[0.        , 0.07142857, 0.14285714, 0.21428571, 0.28571429],\n",
       "       [0.35714286, 0.42857143, 0.5       , 0.57142857, 0.64285714],\n",
       "       [0.71428571, 0.78571429, 0.85714286, 0.92857143, 1.        ]])"
      ]
     },
     "execution_count": 10,
     "metadata": {},
     "output_type": "execute_result"
    }
   ],
   "source": [
    "array_3_normalize = (array_3 - np.min(array_3)) / (np.max(array_3) - np.min(array_3))\n",
    "array_3_normalize"
   ]
  },
  {
   "cell_type": "markdown",
   "metadata": {},
   "source": [
    "5. convert an array of arrays into a flat 1d array"
   ]
  },
  {
   "cell_type": "code",
   "execution_count": 11,
   "metadata": {},
   "outputs": [
    {
     "data": {
      "text/plain": [
       "array([[1, 2, 3, 4],\n",
       "       [5, 6, 7, 8]])"
      ]
     },
     "execution_count": 11,
     "metadata": {},
     "output_type": "execute_result"
    }
   ],
   "source": [
    "# Create an array\n",
    "array_4 = np.array([\n",
    "    [1, 2, 3, 4],\n",
    "    [5, 6, 7, 8]\n",
    "])\n",
    "array_4"
   ]
  },
  {
   "cell_type": "code",
   "execution_count": 12,
   "metadata": {},
   "outputs": [
    {
     "data": {
      "text/plain": [
       "array([1, 2, 3, 4, 5, 6, 7, 8])"
      ]
     },
     "execution_count": 12,
     "metadata": {},
     "output_type": "execute_result"
    }
   ],
   "source": [
    "array_4.flatten()"
   ]
  },
  {
   "cell_type": "code",
   "execution_count": null,
   "metadata": {},
   "outputs": [],
   "source": []
  }
 ],
 "metadata": {
  "kernelspec": {
   "display_name": "Python 3",
   "language": "python",
   "name": "python3"
  },
  "language_info": {
   "codemirror_mode": {
    "name": "ipython",
    "version": 3
   },
   "file_extension": ".py",
   "mimetype": "text/x-python",
   "name": "python",
   "nbconvert_exporter": "python",
   "pygments_lexer": "ipython3",
   "version": "3.10.13"
  }
 },
 "nbformat": 4,
 "nbformat_minor": 2
}
