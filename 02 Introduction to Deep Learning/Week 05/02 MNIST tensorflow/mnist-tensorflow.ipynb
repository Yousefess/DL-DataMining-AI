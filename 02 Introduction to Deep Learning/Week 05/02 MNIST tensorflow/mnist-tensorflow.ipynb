{
 "cells": [
  {
   "cell_type": "code",
   "execution_count": 28,
   "metadata": {},
   "outputs": [],
   "source": [
    "from keras.datasets import mnist\n",
    "from keras.utils import to_categorical\n",
    "import tensorflow as tf\n",
    "import numpy as np\n",
    "import matplotlib.pyplot as plt\n",
    "from sklearn.metrics import accuracy_score"
   ]
  },
  {
   "cell_type": "markdown",
   "metadata": {},
   "source": [
    "## Hyper parameters"
   ]
  },
  {
   "cell_type": "code",
   "execution_count": 29,
   "metadata": {},
   "outputs": [
    {
     "data": {
      "image/png": "[encoded data removed]",
      "text/plain": [
       "<Figure size 640x480 with 1 Axes>"
      ]
     },
     "metadata": {},
     "output_type": "display_data"
    },
    {
     "name": "stdout",
     "output_type": "stream",
     "text": [
      "(60000, 784) (60000, 10)\n"
     ]
    }
   ],
   "source": [
    "(x_train,y_train), (x_test, y_test) = mnist.load_data()\n",
    "n_outputs = len(np.unique(y_train))\n",
    "image_size = x_train.shape[1]\n",
    "\n",
    "plt.imshow(x_train[0])\n",
    "plt.show()\n",
    "\n",
    "x_train = x_train.reshape((-1, image_size * image_size)).astype('float32')/255\n",
    "x_test = x_test.reshape((-1, image_size * image_size)).astype('float32')/255\n",
    "\n",
    "y_train = to_categorical(y_train)\n",
    "y_test = to_categorical(y_test)\n",
    "\n",
    "hidden_layers = [256, 256]\n",
    "n_inputs = image_size * image_size\n",
    "n_epochs = 10\n",
    "batch_size = 32\n",
    "m_train = x_train.shape[0]\n",
    "print(x_train.shape, y_train.shape)"
   ]
  },
  {
   "cell_type": "code",
   "execution_count": 30,
   "metadata": {},
   "outputs": [],
   "source": [
    "tf.compat.v1.disable_eager_execution()\n",
    "with tf.name_scope('placeholders'):\n",
    "    x_p = tf.compat.v1.placeholder(dtype=tf.float32, shape=[None, n_inputs], name='x_p')\n",
    "    y_p = tf.compat.v1.placeholder(dtype=tf.float32, shape=[None, n_outputs], name='y_p')\n",
    "    keep_prob_p = tf.compat.v1.placeholder(dtype=tf.float32, name='keep_prop')"
   ]
  },
  {
   "cell_type": "code",
   "execution_count": 31,
   "metadata": {},
   "outputs": [],
   "source": [
    "with tf.name_scope('hidden_layer_1'):\n",
    "    weight_1 = tf.compat.v1.Variable(\n",
    "        tf.compat.v1.random_normal(stddev=0.01, shape=(n_inputs, hidden_layers[0])),\n",
    "        dtype=tf.float32, name='w_1')\n",
    "    bias_1 = tf.compat.v1.Variable(\n",
    "        tf.compat.v1.random_normal(stddev=0.01, shape=(hidden_layers[0],)),\n",
    "        dtype=tf.float32, name='b_1')\n",
    "    hidden_layer_1 = tf.nn.relu(tf.matmul(x_p,weight_1) + bias_1)\n",
    "    hidden_layer_1 = tf.compat.v1.nn.dropout(hidden_layer_1, keep_prob=keep_prob_p)"
   ]
  },
  {
   "cell_type": "code",
   "execution_count": 32,
   "metadata": {},
   "outputs": [],
   "source": [
    "with tf.name_scope('hidden_layer_2'):\n",
    "    weight_2 = tf.compat.v1.Variable(\n",
    "        tf.compat.v1.random_normal(stddev=0.01, shape=(hidden_layers[0], hidden_layers[1])),\n",
    "        dtype=tf.float32, name='w_2')\n",
    "    bias_2 = tf.compat.v1.Variable(\n",
    "        tf.compat.v1.random_normal(stddev=0.01, shape=(hidden_layers[1],)),\n",
    "        dtype=tf.float32, name='b_2')\n",
    "    hidden_layer_2 = tf.nn.relu(tf.matmul(hidden_layer_1,weight_2) + bias_2)\n",
    "    hidden_layer_2 = tf.compat.v1.nn.dropout(hidden_layer_2, keep_prob=keep_prob_p)"
   ]
  },
  {
   "cell_type": "code",
   "execution_count": 33,
   "metadata": {},
   "outputs": [],
   "source": [
    "with tf.name_scope('ouput_layer'):\n",
    "    weight_output = tf.compat.v1.Variable(\n",
    "        tf.compat.v1.random_normal(stddev=0.01, shape=(hidden_layers[-1], n_outputs)),\n",
    "        dtype=tf.float32, name='w_outputs')\n",
    "    bias_output = tf.compat.v1.Variable(\n",
    "        tf.compat.v1.random_normal(stddev=0.01, shape=(n_outputs,)),\n",
    "        dtype=tf.float32, name='b_outputs')\n",
    "    logits = tf.matmul(hidden_layer_2, weight_output) + bias_output\n",
    "    y_predict_t = tf.nn.softmax(logits)"
   ]
  },
  {
   "cell_type": "code",
   "execution_count": 34,
   "metadata": {},
   "outputs": [],
   "source": [
    "with tf.name_scope('accuracy'):\n",
    "    equallity_check = tf.equal(tf.argmax(y_predict_t, axis=1), tf.argmax(y_p, axis=1))\n",
    "    accuracy_op = tf.reduce_mean(tf.cast(equallity_check, tf.float32))\n"
   ]
  },
  {
   "cell_type": "code",
   "execution_count": 35,
   "metadata": {},
   "outputs": [],
   "source": [
    "with tf.name_scope('loss'):\n",
    "    entropy = tf.nn.softmax_cross_entropy_with_logits(logits=logits, labels=y_p)\n",
    "    loss_op = tf.reduce_mean(entropy)"
   ]
  },
  {
   "cell_type": "code",
   "execution_count": 36,
   "metadata": {},
   "outputs": [],
   "source": [
    "with tf.name_scope('optimizer'):\n",
    "    optimizer = tf.compat.v1.train.AdamOptimizer().minimize(loss_op)"
   ]
  },
  {
   "cell_type": "code",
   "execution_count": 37,
   "metadata": {},
   "outputs": [],
   "source": [
    "with tf.name_scope('summary'):\n",
    "    tf.summary.scalar('loss', loss_op)\n",
    "    merged = tf.compat.v1.summary.merge_all()\n",
    "train_writer = tf.compat.v1.summary.FileWriter('./tf_logs', tf.compat.v1.get_default_graph())"
   ]
  },
  {
   "cell_type": "code",
   "execution_count": null,
   "metadata": {},
   "outputs": [],
   "source": [
    "init = tf.compat.v1.global_variables_initializer()\n",
    "with tf.compat.v1.Session() as sess:\n",
    "    sess.run(init)\n",
    "    step = 1\n",
    "    for epoch in range(1 , n_epochs + 1):\n",
    "        pos = 0\n",
    "        while pos < m_train:\n",
    "            x_batch = x_train[pos: pos + batch_size]\n",
    "            y_batch = y_train[pos: pos + batch_size]\n",
    "\n",
    "            feed_dict = {x_p: x_batch, y_p: y_batch, keep_prob_p:0.5}\n",
    "            summary, _ = sess.run([merged, optimizer], feed_dict=feed_dict)\n",
    "            train_writer.add_summary(summary, step)\n",
    "\n",
    "#             print(f'epoch: {epoch}, step:{step}, loss_value: {loss_value}')\n",
    "\n",
    "            step += 1\n",
    "            pos += batch_size\n",
    "        y_predict = sess.run(y_predict_t, feed_dict={x_p: x_test, keep_prob_p:1})\n",
    "        acc = accuracy_score(y_true=np.argmax(y_test, axis=1), y_pred=np.argmax(y_predict, axis=1))\n",
    "        accuracy_value,loss_value = sess.run([accuracy_op,loss_op], feed_dict={x_p: x_test, y_p:y_test, keep_prob_p:1})\n",
    "        print(f'test accuracy(tensor): {accuracy_value}')\n",
    "        print(f'test accuracy: {acc}, loss value: {loss_value}')\n",
    "\n"
   ]
  },
  {
   "cell_type": "code",
   "execution_count": null,
   "metadata": {},
   "outputs": [],
   "source": []
  }
 ],
 "metadata": {
  "kernelspec": {
   "display_name": "Python 3",
   "language": "python",
   "name": "python3"
  },
  "language_info": {
   "codemirror_mode": {
    "name": "ipython",
    "version": 3
   },
   "file_extension": ".py",
   "mimetype": "text/x-python",
   "name": "python",
   "nbconvert_exporter": "python",
   "pygments_lexer": "ipython3",
   "version": "3.10.13"
  }
 },
 "nbformat": 4,
 "nbformat_minor": 2
}
