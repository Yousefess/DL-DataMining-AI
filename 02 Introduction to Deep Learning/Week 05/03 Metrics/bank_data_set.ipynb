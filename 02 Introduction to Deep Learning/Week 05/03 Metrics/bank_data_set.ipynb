{
 "cells": [
  {
   "cell_type": "code",
   "execution_count": 2,
   "metadata": {},
   "outputs": [],
   "source": [
    "import tensorflow as tf\n",
    "import pandas as pd\n",
    "from sklearn.model_selection import train_test_split\n",
    "from sklearn.metrics import accuracy_score\n",
    "from sklearn.preprocessing import MinMaxScaler\n",
    "from sklearn.metrics import precision_score, recall_score, roc_auc_score, f1_score"
   ]
  },
  {
   "cell_type": "markdown",
   "metadata": {},
   "source": [
    "Bank data set address:\n",
    "\n",
    "\n",
    "<a href=\"https://archive.ics.uci.edu/ml/datasets/bank+marketing\">https://archive.ics.uci.edu/ml/datasets/bank+marketing</a>"
   ]
  },
  {
   "cell_type": "code",
   "execution_count": 4,
   "metadata": {},
   "outputs": [
    {
     "data": {
      "text/plain": [
       "(array([[0.2839506172839506, 0.03636363636363636, 1.0, 0.0,\n",
       "         0.33333333333333337, 0.3406079501169188, 0.15481171548117123,\n",
       "         0.17479029698481074, 0.512287334593573, False, False, False,\n",
       "         False, False, False, False, True, False, False, False, False,\n",
       "         True, False, False, False, False, False, False, True, False,\n",
       "         False, False, False, True, False, False, False, False, True,\n",
       "         True, False, False, False, True, True, False, False, False,\n",
       "         False, False, False, False, False, False, True, False, False,\n",
       "         False, False, False, True, False],\n",
       "        [0.19753086419753085, 0.01818181818181818, 1.0, 0.0, 1.0,\n",
       "         0.4844115354637566, 0.6150627615062758, 0.9814101110859217, 1.0,\n",
       "         False, False, False, False, False, False, False, False, False,\n",
       "         False, True, False, False, True, False, False, False, False,\n",
       "         False, False, False, False, True, False, True, False, False,\n",
       "         False, False, True, True, False, False, True, False, False, True,\n",
       "         False, False, False, False, False, False, False, False, True,\n",
       "         False, False, False, False, False, True, False]], dtype=object),\n",
       " array([[0],\n",
       "        [0]]))"
      ]
     },
     "execution_count": 4,
     "metadata": {},
     "output_type": "execute_result"
    }
   ],
   "source": [
    "bank_df = pd.read_csv('./Data/bank-additional-full.csv', sep=';')\n",
    "# binary encoding of class label\n",
    "bank_df['y'] = bank_df['y'].map({'no': 0, 'yes': 1})\n",
    "# categorical features\n",
    "categorical = ['job', 'marital', 'education', 'default', 'housing', 'loan', 'contact', 'month', 'day_of_week', 'poutcome']\n",
    "# Perform feature scaling using MinMaxScaler\n",
    "# Initialize a scaler, then apply it to the features\n",
    "scaler = MinMaxScaler()  # default= (0, 1)\n",
    "numerical = ['age', 'duration', 'campaign', 'pdays', 'previous', 'emp.var.rate', 'cons.price.idx', 'cons.conf.idx',\n",
    "             'euribor3m', 'nr.employed']\n",
    "bank_df[numerical] = scaler.fit_transform(bank_df[numerical])\n",
    "bank_df = pd.get_dummies(bank_df)  # encods categorical data\n",
    "bank_df = bank_df.drop('duration', axis=1)\n",
    "bank_df.head()\n",
    "\n",
    "X = bank_df.drop('y', axis=1).values\n",
    "y = bank_df['y'].values.reshape(-1, 1)\n",
    "x_train, x_test, y_train, y_test = train_test_split(X, y, test_size=0.2, random_state=0)\n",
    "x_train[:2],y_train[:2]"
   ]
  },
  {
   "cell_type": "code",
   "execution_count": null,
   "metadata": {},
   "outputs": [],
   "source": []
  }
 ],
 "metadata": {
  "kernelspec": {
   "display_name": "Python 3",
   "language": "python",
   "name": "python3"
  },
  "language_info": {
   "codemirror_mode": {
    "name": "ipython",
    "version": 3
   },
   "file_extension": ".py",
   "mimetype": "text/x-python",
   "name": "python",
   "nbconvert_exporter": "python",
   "pygments_lexer": "ipython3",
   "version": "3.10.13"
  }
 },
 "nbformat": 4,
 "nbformat_minor": 2
}
