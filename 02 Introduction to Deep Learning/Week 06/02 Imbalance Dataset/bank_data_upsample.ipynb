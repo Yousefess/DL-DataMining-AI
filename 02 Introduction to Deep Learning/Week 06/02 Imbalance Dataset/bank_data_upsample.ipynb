{
 "cells": [
  {
   "cell_type": "code",
   "execution_count": 1,
   "metadata": {},
   "outputs": [],
   "source": [
    "import pandas as pd\n",
    "from sklearn.model_selection import train_test_split\n",
    "from sklearn.preprocessing import MinMaxScaler"
   ]
  },
  {
   "cell_type": "code",
   "execution_count": 2,
   "metadata": {},
   "outputs": [
    {
     "name": "stdout",
     "output_type": "stream",
     "text": [
      "Distribution of negative calss:\n",
      " y\n",
      "0    0.887071\n",
      "1    0.112929\n",
      "Name: count, dtype: float64\n"
     ]
    }
   ],
   "source": [
    "bank_df = pd.read_csv('./Data/bank-additional-full.csv', sep=';')\n",
    "# binary encoding of class label\n",
    "bank_df['y'] = bank_df['y'].map({'no': 0, 'yes': 1})\n",
    "# categorical features\n",
    "categorical = ['job', 'marital', 'education', 'default', 'housing', 'loan', 'contact', 'month', 'day_of_week', 'poutcome']\n",
    "# Perform feature scaling using MinMaxScaler\n",
    "# Initialize a scaler, then apply it to the features\n",
    "scaler = MinMaxScaler()  # default= (0, 1)\n",
    "numerical = ['age', 'duration', 'campaign', 'pdays', 'previous', 'emp.var.rate', 'cons.price.idx', 'cons.conf.idx',\n",
    "             'euribor3m', 'nr.employed']\n",
    "bank_df[numerical] = scaler.fit_transform(bank_df[numerical])\n",
    "bank_df = pd.get_dummies(bank_df)  # encods categorical data\n",
    "bank_df = bank_df.drop('duration', axis=1)\n",
    "bank_df_y = bank_df['y'].values.reshape(-1, 1)\n",
    "train_set, test_set, train_set_y, test_set_y = train_test_split(bank_df, bank_df_y, test_size=0.2, random_state=0)\n",
    "# make sure negative class is distributed equally in train and test set.\n",
    "print(\"Distribution of negative calss:\\n\", train_set['y'].value_counts() / len(train_set))"
   ]
  },
  {
   "cell_type": "code",
   "execution_count": 3,
   "metadata": {},
   "outputs": [
    {
     "name": "stdout",
     "output_type": "stream",
     "text": [
      "Display new class counts:\n",
      " y\n",
      "1    29238\n",
      "0    29229\n",
      "Name: count, dtype: int64\n"
     ]
    }
   ],
   "source": [
    "# Perform upsampling to address sample imbalance\n",
    "# Separate majority and minority classes\n",
    "from sklearn.utils import resample\n",
    "\n",
    "train_negative = train_set[train_set['y'] == 0]\n",
    "train_positive = train_set[train_set['y'] == 1]\n",
    "\n",
    "# Upsample minority class\n",
    "train_positive_upsample = resample(train_positive,\n",
    "                                   replace=True,  # sample with replacement\n",
    "                                   n_samples=29238,  # to match majority class\n",
    "                                   random_state=18  # reproducible results\n",
    "                                   )\n",
    "# Combine majority class with upsampled minority class\n",
    "train_upsample = pd.concat([train_negative, train_positive_upsample])\n",
    "\n",
    "# Display new class counts\n",
    "print(\"Display new class counts:\\n\", train_upsample['y'].value_counts())\n",
    "\n",
    "# Create X, y for upsampled training and testing\n",
    "X_train = train_upsample.drop('y', axis=1)\n",
    "y_train = train_upsample['y']\n",
    "# create X, y for imbalanced test set for performance validation\n",
    "X_imb = test_set.drop('y', axis=1)\n",
    "y_imb = test_set['y']\n",
    "y_train = y_train.values.reshape(-1, 1)\n",
    "X_train, X_valid, y_train, y_valid = train_test_split(X_train.values,\n",
    "                                                      y_train,\n",
    "                                                      test_size=0.2,\n",
    "                                                      random_state=18)"
   ]
  },
  {
   "cell_type": "code",
   "execution_count": null,
   "metadata": {},
   "outputs": [],
   "source": []
  }
 ],
 "metadata": {
  "kernelspec": {
   "display_name": "Python 3",
   "language": "python",
   "name": "python3"
  },
  "language_info": {
   "codemirror_mode": {
    "name": "ipython",
    "version": 3
   },
   "file_extension": ".py",
   "mimetype": "text/x-python",
   "name": "python",
   "nbconvert_exporter": "python",
   "pygments_lexer": "ipython3",
   "version": "3.10.13"
  }
 },
 "nbformat": 4,
 "nbformat_minor": 2
}
