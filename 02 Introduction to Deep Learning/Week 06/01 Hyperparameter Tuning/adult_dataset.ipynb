{
 "cells": [
  {
   "cell_type": "code",
   "execution_count": null,
   "metadata": {},
   "outputs": [],
   "source": [
    "# # Data set description\n",
    "# **Data income, classification problem**\n",
    "# The original data has attributes:\n",
    "# income (>50K, <=50K),  age( continuous),  workclass:( Private, Self-emp-not-inc...), fnlwgt: continuous, education (Bachelors,...), education-num (continuous),\n",
    "# marital-status (Married-civ-spouse...), occupation (Tech-support,..), relationship (Wife,...), race (White,...), sex (Female, Male) capital-gain (continuous) capital-loss (continuous), hours-per-week  (continuous) and native-country.\n",
    "#\n",
    "# I removed attributes that contain just minor categories. I kept attributes that have larrge categories,  for example for race white and black are large categories and for native-country United States is the main caegory.\n",
    "#\n",
    "# So my final attributes are:\n",
    "# income, age, education-num, marital-status, sex, capital-gain, capital-loss, hours per week, native country.\n",
    "# Here I cleaned the data set everything so it has just numerical variables.\n",
    "#\n",
    "# https://archive.ics.uci.edu/ml/datasets/Adult"
   ]
  },
  {
   "cell_type": "code",
   "execution_count": null,
   "metadata": {},
   "outputs": [],
   "source": [
    "import tensorflow as tf\n",
    "import pandas as pd\n",
    "import numpy as np\n",
    "from sklearn.model_selection import train_test_split\n",
    "from sklearn.metrics import accuracy_score"
   ]
  },
  {
   "cell_type": "code",
   "execution_count": 4,
   "metadata": {},
   "outputs": [],
   "source": [
    "adult_file_path = './Data/adult.csv'\n",
    "adult_df = pd.read_csv(adult_file_path)\n",
    "adult_df.columns = adult_df.columns.str.strip().str.lower().str.replace('.', '_')\n",
    "adult_df = adult_df.replace({'?': np.nan}).dropna()\n",
    "adult_df.head()\n",
    "\n",
    "# Preprocessing\n",
    "adult_df.income = [1 if income == \">50K\" else 0 for income in adult_df.income]\n",
    "adult_df.sex = [1 if sex == \"Male\" else 0 for sex in adult_df.sex]\n",
    "white = [1 if race == \"White\" else 0 for race in adult_df.race]\n",
    "black = [1 if race == \"Black\" else 0 for race in adult_df.race]\n",
    "native_american = [1 if native_country == \"United-States\" else 0 for native_country in adult_df.native_country]\n",
    "single = [1 if marital_status == \"Never-married\" else 0 for marital_status in adult_df.race]\n",
    "married = [1 if marital_status == \"Married-civ-spouse\" else 0 for marital_status in adult_df.marital_status]\n",
    "separated = [1 if marital_status == \"Separated\" else 0 for marital_status in adult_df.marital_status]\n",
    "divorced = [1 if marital_status == \"Divorced\" else 0 for marital_status in adult_df.marital_status]\n",
    "widowed = [1 if marital_status == \"Widowed\" else 0 for marital_status in adult_df.marital_status]\n",
    "high_degree = [1 if education in ['Masters', 'Doctorate'] else 0 for education in adult_df.education]\n",
    "adult_df['white'] = white\n",
    "adult_df['black'] = black\n",
    "adult_df['native_american'] = native_american\n",
    "adult_df['single'] = single\n",
    "adult_df['married'] = married\n",
    "adult_df['separated'] = separated\n",
    "adult_df['divorced'] = divorced\n",
    "adult_df['widowed'] = widowed\n",
    "adult_df['high_degree'] = high_degree\n",
    "adult_features = ['age', 'sex', 'education_num', 'hours_per_week', 'native_american', 'white', 'black', 'single', 'married',\n",
    "                  'separated', 'divorced', 'widowed', 'high_degree', 'capital_gain', 'capital_loss', 'income']\n",
    "adult_df = adult_df[adult_features]\n",
    "adult_df.head()\n",
    "\n",
    "X = adult_df.drop(['income'], axis=1).values\n",
    "y = adult_df['income'].values.reshape(-1, 1)"
   ]
  },
  {
   "cell_type": "code",
   "execution_count": 5,
   "metadata": {},
   "outputs": [
    {
     "data": {
      "text/plain": [
       "array([[  82,    0,    9, ...,    0,    0, 4356],\n",
       "       [  54,    0,    4, ...,    0,    0, 3900],\n",
       "       [  41,    0,   10, ...,    0,    0, 3900],\n",
       "       ...,\n",
       "       [  40,    1,    9, ...,    0,    0,    0],\n",
       "       [  58,    0,    9, ...,    0,    0,    0],\n",
       "       [  22,    1,    9, ...,    0,    0,    0]])"
      ]
     },
     "execution_count": 5,
     "metadata": {},
     "output_type": "execute_result"
    }
   ],
   "source": [
    "X"
   ]
  },
  {
   "cell_type": "code",
   "execution_count": 6,
   "metadata": {},
   "outputs": [
    {
     "data": {
      "text/plain": [
       "array([[0],\n",
       "       [0],\n",
       "       [0],\n",
       "       ...,\n",
       "       [1],\n",
       "       [0],\n",
       "       [0]])"
      ]
     },
     "execution_count": 6,
     "metadata": {},
     "output_type": "execute_result"
    }
   ],
   "source": [
    "y"
   ]
  },
  {
   "cell_type": "code",
   "execution_count": null,
   "metadata": {},
   "outputs": [],
   "source": []
  }
 ],
 "metadata": {
  "kernelspec": {
   "display_name": "Python 3",
   "language": "python",
   "name": "python3"
  },
  "language_info": {
   "codemirror_mode": {
    "name": "ipython",
    "version": 3
   },
   "file_extension": ".py",
   "mimetype": "text/x-python",
   "name": "python",
   "nbconvert_exporter": "python",
   "pygments_lexer": "ipython3",
   "version": "3.10.13"
  }
 },
 "nbformat": 4,
 "nbformat_minor": 2
}
