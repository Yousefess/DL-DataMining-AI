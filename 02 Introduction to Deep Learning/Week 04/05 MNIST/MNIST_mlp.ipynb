{
 "cells": [
  {
   "cell_type": "code",
   "execution_count": 2,
   "metadata": {},
   "outputs": [],
   "source": [
    "import numpy as np\n",
    "import matplotlib.pyplot as plt\n",
    "from keras.datasets import mnist\n",
    "from keras.utils import to_categorical, plot_model\n",
    "from keras.models import Sequential\n",
    "from keras.layers import Dense, Softmax, Activation\n",
    "from keras.optimizers import Adam"
   ]
  },
  {
   "cell_type": "code",
   "execution_count": 3,
   "metadata": {},
   "outputs": [
    {
     "name": "stdout",
     "output_type": "stream",
     "text": [
      "(60000, 28, 28) (60000,)\n"
     ]
    },
    {
     "data": {
      "image/png": "[encoded data removed]",
      "text/plain": [
       "<Figure size 640x480 with 1 Axes>"
      ]
     },
     "metadata": {},
     "output_type": "display_data"
    }
   ],
   "source": [
    "(x_train, y_train), (x_test, y_test) = mnist.load_data()\n",
    "image_size = x_train.shape[1]\n",
    "print(x_train.shape, y_train.shape)\n",
    "image_0 = x_train[10]\n",
    "plt.imshow(image_0)\n",
    "plt.show()"
   ]
  },
  {
   "cell_type": "code",
   "execution_count": 4,
   "metadata": {},
   "outputs": [],
   "source": [
    "# hyper paramters\n",
    "n_outputs = 10 # len(np.unique(y_train))\n",
    "n_inputs = image_size * image_size\n",
    "hidden_layers = [256, 256]\n",
    "activation_function = 'relu'"
   ]
  },
  {
   "cell_type": "code",
   "execution_count": 5,
   "metadata": {},
   "outputs": [
    {
     "name": "stdout",
     "output_type": "stream",
     "text": [
      "(60000, 784) (60000, 10)\n",
      "[[0. 0. 0. 0. 0. 1. 0. 0. 0. 0.]\n",
      " [1. 0. 0. 0. 0. 0. 0. 0. 0. 0.]\n",
      " [0. 0. 0. 0. 1. 0. 0. 0. 0. 0.]\n",
      " [0. 1. 0. 0. 0. 0. 0. 0. 0. 0.]\n",
      " [0. 0. 0. 0. 0. 0. 0. 0. 0. 1.]]\n"
     ]
    }
   ],
   "source": [
    "x_train = x_train.reshape((60000, image_size * image_size))\n",
    "x_test = x_test.reshape((-1, image_size * image_size))\n",
    "\n",
    "x_train = x_train.astype('float32')/255\n",
    "x_test = x_test.astype('float32')/255\n",
    "\n",
    "y_train = to_categorical(y_train)\n",
    "y_test = to_categorical(y_test)\n",
    "\n",
    "print(x_train.shape, y_train.shape)\n",
    "print(y_train[:5])"
   ]
  },
  {
   "cell_type": "code",
   "execution_count": 7,
   "metadata": {},
   "outputs": [
    {
     "name": "stdout",
     "output_type": "stream",
     "text": [
      "Model: \"sequential_1\"\n",
      "_________________________________________________________________\n",
      " Layer (type)                Output Shape              Param #   \n",
      "=================================================================\n",
      " hidden_1 (Dense)            (None, 256)               200960    \n",
      "                                                                 \n",
      " relu_1 (Activation)         (None, 256)               0         \n"
     ]
    },
    {
     "name": "stdout",
     "output_type": "stream",
     "text": [
      "                                                                 \n",
      " hidden_2 (Dense)            (None, 256)               65792     \n",
      "                                                                 \n",
      " relu_2 (Activation)         (None, 256)               0         \n",
      "                                                                 \n",
      " output_layer (Dense)        (None, 10)                2570      \n",
      "                                                                 \n",
      " soft_max (Activation)       (None, 10)                0         \n",
      "                                                                 \n",
      "=================================================================\n",
      "Total params: 269322 (1.03 MB)\n",
      "Trainable params: 269322 (1.03 MB)\n",
      "Non-trainable params: 0 (0.00 Byte)\n",
      "_________________________________________________________________\n"
     ]
    },
    {
     "name": "stderr",
     "output_type": "stream",
     "text": [
      "WARNING:absl:`lr` is deprecated in Keras optimizer, please use `learning_rate` or use the legacy optimizer, e.g.,tf.keras.optimizers.legacy.Adam.\n"
     ]
    },
    {
     "name": "stdout",
     "output_type": "stream",
     "text": [
      "Epoch 1/20\n",
      "1875/1875 [==============================] - 9s 5ms/step - loss: 0.2007 - acc: 0.9402\n",
      "Epoch 2/20\n",
      "1875/1875 [==============================] - 10s 5ms/step - loss: 0.0832 - acc: 0.9745\n",
      "Epoch 3/20\n",
      "1875/1875 [==============================] - 9s 5ms/step - loss: 0.0584 - acc: 0.9811\n",
      "Epoch 4/20\n",
      "1875/1875 [==============================] - 8s 4ms/step - loss: 0.0427 - acc: 0.9867\n",
      "Epoch 5/20\n",
      "1875/1875 [==============================] - 8s 4ms/step - loss: 0.0332 - acc: 0.9894\n",
      "Epoch 6/20\n",
      "1875/1875 [==============================] - 8s 4ms/step - loss: 0.0283 - acc: 0.9903\n",
      "Epoch 7/20\n",
      "1875/1875 [==============================] - 8s 4ms/step - loss: 0.0238 - acc: 0.9923\n",
      "Epoch 8/20\n",
      "1875/1875 [==============================] - 9s 5ms/step - loss: 0.0212 - acc: 0.9930\n",
      "Epoch 9/20\n",
      "1875/1875 [==============================] - 8s 4ms/step - loss: 0.0191 - acc: 0.9941\n",
      "Epoch 10/20\n",
      "1875/1875 [==============================] - 8s 4ms/step - loss: 0.0149 - acc: 0.9955\n",
      "Epoch 11/20\n",
      "1875/1875 [==============================] - 8s 4ms/step - loss: 0.0169 - acc: 0.9947\n",
      "Epoch 12/20\n",
      "1875/1875 [==============================] - 9s 5ms/step - loss: 0.0138 - acc: 0.9956\n",
      "Epoch 13/20\n",
      "1875/1875 [==============================] - 8s 4ms/step - loss: 0.0147 - acc: 0.9952\n",
      "Epoch 14/20\n",
      "1875/1875 [==============================] - 9s 5ms/step - loss: 0.0136 - acc: 0.9961\n",
      "Epoch 15/20\n",
      "1875/1875 [==============================] - 8s 4ms/step - loss: 0.0130 - acc: 0.9962\n",
      "Epoch 16/20\n",
      "1875/1875 [==============================] - 8s 4ms/step - loss: 0.0122 - acc: 0.9965\n",
      "Epoch 17/20\n",
      "1875/1875 [==============================] - 9s 5ms/step - loss: 0.0118 - acc: 0.9963\n",
      "Epoch 18/20\n",
      "1875/1875 [==============================] - 9s 5ms/step - loss: 0.0112 - acc: 0.9966\n",
      "Epoch 19/20\n",
      "1875/1875 [==============================] - 8s 4ms/step - loss: 0.0106 - acc: 0.9969\n",
      "Epoch 20/20\n",
      "1875/1875 [==============================] - 8s 4ms/step - loss: 0.0120 - acc: 0.9965\n"
     ]
    }
   ],
   "source": [
    "model = Sequential()\n",
    "model.add(Dense(units=hidden_layers[0], input_dim=n_inputs, name='hidden_1'))\n",
    "model.add(Activation(activation=activation_function, name='relu_1'))\n",
    "model.add(Dense(units=hidden_layers[1], name='hidden_2'))\n",
    "model.add(Activation(activation=activation_function, name='relu_2'))\n",
    "model.add(Dense(units=n_outputs, name='output_layer'))\n",
    "model.add(Activation(activation='softmax', name='soft_max'))\n",
    "model.summary()\n",
    "\n",
    "\n",
    "model.compile(loss='categorical_crossentropy', optimizer=Adam(lr=0.01), metrics=['acc'])\n",
    "model_histoty = model.fit(x_train, y_train, epochs=20, batch_size=32)"
   ]
  },
  {
   "cell_type": "code",
   "execution_count": 9,
   "metadata": {},
   "outputs": [],
   "source": [
    "model.compile(loss='categorical_crossentropy', optimizer=Adam(learning_rate=0.01), metrics=['acc'])"
   ]
  },
  {
   "cell_type": "code",
   "execution_count": 10,
   "metadata": {},
   "outputs": [
    {
     "name": "stdout",
     "output_type": "stream",
     "text": [
      "1875/1875 [==============================] - 10s 5ms/step - loss: 0.2495 - acc: 0.9440\n"
     ]
    }
   ],
   "source": [
    "model_histoty = model.fit(x_train, y_train, epochs=1, batch_size=32)"
   ]
  },
  {
   "cell_type": "code",
   "execution_count": null,
   "metadata": {},
   "outputs": [],
   "source": []
  }
 ],
 "metadata": {
  "kernelspec": {
   "display_name": "base",
   "language": "python",
   "name": "python3"
  },
  "language_info": {
   "codemirror_mode": {
    "name": "ipython",
    "version": 3
   },
   "file_extension": ".py",
   "mimetype": "text/x-python",
   "name": "python",
   "nbconvert_exporter": "python",
   "pygments_lexer": "ipython3",
   "version": "3.10.13"
  }
 },
 "nbformat": 4,
 "nbformat_minor": 2
}
