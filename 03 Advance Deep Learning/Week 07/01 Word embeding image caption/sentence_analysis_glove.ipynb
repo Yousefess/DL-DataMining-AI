{
 "cells": [
  {
   "cell_type": "code",
   "execution_count": 3,
   "metadata": {},
   "outputs": [
    {
     "name": "stderr",
     "output_type": "stream",
     "text": [
      "Using TensorFlow backend.\n"
     ]
    }
   ],
   "source": [
    "import numpy as np\n",
    "from keras.preprocessing.text import Tokenizer\n",
    "from keras.preprocessing.sequence import pad_sequences\n",
    "from keras.models import Model\n",
    "from keras.layers import Input, Dense, Flatten, Embedding"
   ]
  },
  {
   "cell_type": "code",
   "execution_count": 4,
   "metadata": {},
   "outputs": [],
   "source": [
    "# define documents\n",
    "docs = ['Well done!',\n",
    "        'Good work',\n",
    "        'Great effort',\n",
    "        'nice work',\n",
    "        'Excellent!',\n",
    "        'Weak',\n",
    "        'Poor effort!',\n",
    "        'not good',\n",
    "        'poor work',\n",
    "        'Could have done better.']\n",
    "# define class labels\n",
    "labels = np.array([1,1,1,1,1,0,0,0,0,0])"
   ]
  },
  {
   "cell_type": "code",
   "execution_count": 5,
   "metadata": {},
   "outputs": [
    {
     "name": "stdout",
     "output_type": "stream",
     "text": [
      "[[6, 2], [3, 1], [7, 4], [8, 1], [9], [10], [5, 4], [11, 3], [5, 1], [12, 13, 2, 14]]\n",
      "[[ 6  2  0  0]\n",
      " [ 3  1  0  0]\n",
      " [ 7  4  0  0]\n",
      " [ 8  1  0  0]\n",
      " [ 9  0  0  0]\n",
      " [10  0  0  0]\n",
      " [ 5  4  0  0]\n",
      " [11  3  0  0]\n",
      " [ 5  1  0  0]\n",
      " [12 13  2 14]]\n"
     ]
    }
   ],
   "source": [
    "# this can be used either\n",
    "tokenizer = Tokenizer()\n",
    "tokenizer.fit_on_texts(docs)\n",
    "vocab_size = len(tokenizer.word_index) + 1\n",
    "encoded_docs = tokenizer.texts_to_sequences(docs)\n",
    "print(encoded_docs)\n",
    "max_length = 4\n",
    "padded_docs = pad_sequences(encoded_docs, maxlen=max_length, padding='post')\n",
    "print(padded_docs)"
   ]
  },
  {
   "cell_type": "code",
   "execution_count": 6,
   "metadata": {},
   "outputs": [
    {
     "name": "stdout",
     "output_type": "stream",
     "text": [
      "Loaded 400000 word vectors.\n"
     ]
    }
   ],
   "source": [
    "# load the whole embedding into memory\n",
    "embeddings_index = dict()\n",
    "f = open('glove.6B.100d.txt', encoding=\"utf8\")\n",
    "for line in f:\n",
    "    values = line.split()\n",
    "    word = values[0]\n",
    "    coefs = np.array(values[1:], dtype='float32')\n",
    "    embeddings_index[word] = coefs\n",
    "f.close()\n",
    "print('Loaded %s word vectors.' % len(embeddings_index))"
   ]
  },
  {
   "cell_type": "code",
   "execution_count": 7,
   "metadata": {},
   "outputs": [],
   "source": [
    "# create a weight matrix for words in training docs\n",
    "embedding_matrix = np.zeros((vocab_size, 100))\n",
    "for word, i in tokenizer.word_index.items():\n",
    "    embedding_vector = embeddings_index.get(word)\n",
    "    if embedding_vector is not None:\n",
    "        embedding_matrix[i] = embedding_vector"
   ]
  },
  {
   "cell_type": "code",
   "execution_count": 8,
   "metadata": {},
   "outputs": [
    {
     "name": "stderr",
     "output_type": "stream",
     "text": [
      "WARNING: Logging before flag parsing goes to stderr.\n",
      "W0903 16:25:14.274927  1748 deprecation_wrapper.py:119] From C:\\Users\\10\\Anaconda3\\envs\\gpu_env\\lib\\site-packages\\keras\\backend\\tensorflow_backend.py:74: The name tf.get_default_graph is deprecated. Please use tf.compat.v1.get_default_graph instead.\n",
      "\n"
     ]
    }
   ],
   "source": [
    "embedding = Embedding(vocab_size, 100, weights=[embedding_matrix], trainable=False)"
   ]
  },
  {
   "cell_type": "code",
   "execution_count": 9,
   "metadata": {},
   "outputs": [
    {
     "name": "stderr",
     "output_type": "stream",
     "text": [
      "W0903 16:25:14.299859  1748 deprecation_wrapper.py:119] From C:\\Users\\10\\Anaconda3\\envs\\gpu_env\\lib\\site-packages\\keras\\backend\\tensorflow_backend.py:517: The name tf.placeholder is deprecated. Please use tf.compat.v1.placeholder instead.\n",
      "\n",
      "W0903 16:25:14.303853  1748 deprecation_wrapper.py:119] From C:\\Users\\10\\Anaconda3\\envs\\gpu_env\\lib\\site-packages\\keras\\backend\\tensorflow_backend.py:4138: The name tf.random_uniform is deprecated. Please use tf.random.uniform instead.\n",
      "\n",
      "W0903 16:25:14.313822  1748 deprecation_wrapper.py:119] From C:\\Users\\10\\Anaconda3\\envs\\gpu_env\\lib\\site-packages\\keras\\backend\\tensorflow_backend.py:174: The name tf.get_default_session is deprecated. Please use tf.compat.v1.get_default_session instead.\n",
      "\n",
      "W0903 16:25:14.313822  1748 deprecation_wrapper.py:119] From C:\\Users\\10\\Anaconda3\\envs\\gpu_env\\lib\\site-packages\\keras\\backend\\tensorflow_backend.py:181: The name tf.ConfigProto is deprecated. Please use tf.compat.v1.ConfigProto instead.\n",
      "\n",
      "W0903 16:25:15.696741  1748 deprecation_wrapper.py:119] From C:\\Users\\10\\Anaconda3\\envs\\gpu_env\\lib\\site-packages\\keras\\optimizers.py:790: The name tf.train.Optimizer is deprecated. Please use tf.compat.v1.train.Optimizer instead.\n",
      "\n",
      "W0903 16:25:15.721674  1748 deprecation.py:323] From C:\\Users\\10\\Anaconda3\\envs\\gpu_env\\lib\\site-packages\\tensorflow\\python\\ops\\nn_impl.py:180: add_dispatch_support.<locals>.wrapper (from tensorflow.python.ops.array_ops) is deprecated and will be removed in a future version.\n",
      "Instructions for updating:\n",
      "Use tf.where in 2.0, which has the same broadcast rule as np.where\n"
     ]
    },
    {
     "name": "stdout",
     "output_type": "stream",
     "text": [
      "_________________________________________________________________\n",
      "Layer (type)                 Output Shape              Param #   \n",
      "=================================================================\n",
      "inputs (InputLayer)          (None, 4)                 0         \n",
      "_________________________________________________________________\n",
      "embedding_1 (Embedding)      (None, 4, 100)            1500      \n",
      "_________________________________________________________________\n",
      "flatten_1 (Flatten)          (None, 400)               0         \n",
      "_________________________________________________________________\n",
      "dense_1 (Dense)              (None, 1)                 401       \n",
      "=================================================================\n",
      "Total params: 1,901\n",
      "Trainable params: 401\n",
      "Non-trainable params: 1,500\n",
      "_________________________________________________________________\n"
     ]
    }
   ],
   "source": [
    "inputs = Input(shape=(4,), name='inputs')\n",
    "x = inputs\n",
    "x = embedding(x)\n",
    "x = Flatten()(x)\n",
    "outputs = Dense(1, activation='sigmoid')(x)\n",
    "model = Model(inputs, outputs, name='simple_embedding')\n",
    "model.summary()\n",
    "model.compile(loss='binary_crossentropy',\n",
    "              optimizer='adam',\n",
    "              metrics=['acc'])"
   ]
  },
  {
   "cell_type": "code",
   "execution_count": 10,
   "metadata": {},
   "outputs": [
    {
     "name": "stdout",
     "output_type": "stream",
     "text": [
      "Epoch 1/100\n",
      "10/10 [==============================] - 0s 44ms/step - loss: 0.8835 - acc: 0.3000\n",
      "Epoch 2/100\n",
      "10/10 [==============================] - 0s 299us/step - loss: 0.8671 - acc: 0.3000\n",
      "Epoch 3/100\n",
      "10/10 [==============================] - 0s 399us/step - loss: 0.8511 - acc: 0.3000\n",
      "Epoch 4/100\n",
      "10/10 [==============================] - 0s 299us/step - loss: 0.8354 - acc: 0.3000\n",
      "Epoch 5/100\n",
      "10/10 [==============================] - 0s 296us/step - loss: 0.8201 - acc: 0.3000\n",
      "Epoch 6/100\n",
      "10/10 [==============================] - 0s 299us/step - loss: 0.8050 - acc: 0.3000\n",
      "Epoch 7/100\n",
      "10/10 [==============================] - 0s 397us/step - loss: 0.7904 - acc: 0.4000\n",
      "Epoch 8/100\n",
      "10/10 [==============================] - 0s 398us/step - loss: 0.7760 - acc: 0.4000\n",
      "Epoch 9/100\n",
      "10/10 [==============================] - 0s 399us/step - loss: 0.7620 - acc: 0.4000\n",
      "Epoch 10/100\n",
      "10/10 [==============================] - 0s 299us/step - loss: 0.7484 - acc: 0.4000\n",
      "Epoch 11/100\n",
      "10/10 [==============================] - 0s 366us/step - loss: 0.7351 - acc: 0.4000\n",
      "Epoch 12/100\n",
      "10/10 [==============================] - 0s 299us/step - loss: 0.7222 - acc: 0.5000\n",
      "Epoch 13/100\n",
      "10/10 [==============================] - 0s 399us/step - loss: 0.7096 - acc: 0.5000\n",
      "Epoch 14/100\n",
      "10/10 [==============================] - 0s 499us/step - loss: 0.6974 - acc: 0.5000\n",
      "Epoch 15/100\n",
      "10/10 [==============================] - 0s 498us/step - loss: 0.6855 - acc: 0.5000\n",
      "Epoch 16/100\n",
      "10/10 [==============================] - 0s 399us/step - loss: 0.6739 - acc: 0.5000\n",
      "Epoch 17/100\n",
      "10/10 [==============================] - 0s 399us/step - loss: 0.6627 - acc: 0.6000\n",
      "Epoch 18/100\n",
      "10/10 [==============================] - 0s 499us/step - loss: 0.6518 - acc: 0.6000\n",
      "Epoch 19/100\n",
      "10/10 [==============================] - 0s 299us/step - loss: 0.6412 - acc: 0.6000\n",
      "Epoch 20/100\n",
      "10/10 [==============================] - 0s 299us/step - loss: 0.6309 - acc: 0.6000\n",
      "Epoch 21/100\n",
      "10/10 [==============================] - 0s 299us/step - loss: 0.6209 - acc: 0.6000\n",
      "Epoch 22/100\n",
      "10/10 [==============================] - 0s 399us/step - loss: 0.6112 - acc: 0.7000\n",
      "Epoch 23/100\n",
      "10/10 [==============================] - 0s 399us/step - loss: 0.6017 - acc: 0.7000\n",
      "Epoch 24/100\n",
      "10/10 [==============================] - 0s 298us/step - loss: 0.5925 - acc: 0.7000\n",
      "Epoch 25/100\n",
      "10/10 [==============================] - 0s 298us/step - loss: 0.5836 - acc: 0.7000\n",
      "Epoch 26/100\n",
      "10/10 [==============================] - 0s 397us/step - loss: 0.5749 - acc: 0.8000\n",
      "Epoch 27/100\n",
      "10/10 [==============================] - 0s 299us/step - loss: 0.5664 - acc: 0.8000\n",
      "Epoch 28/100\n",
      "10/10 [==============================] - 0s 399us/step - loss: 0.5581 - acc: 0.8000\n",
      "Epoch 29/100\n",
      "10/10 [==============================] - 0s 400us/step - loss: 0.5500 - acc: 0.8000\n",
      "Epoch 30/100\n",
      "10/10 [==============================] - 0s 398us/step - loss: 0.5421 - acc: 0.9000\n",
      "Epoch 31/100\n",
      "10/10 [==============================] - 0s 299us/step - loss: 0.5344 - acc: 0.9000\n",
      "Epoch 32/100\n",
      "10/10 [==============================] - 0s 299us/step - loss: 0.5269 - acc: 1.0000\n",
      "Epoch 33/100\n",
      "10/10 [==============================] - 0s 299us/step - loss: 0.5196 - acc: 1.0000\n",
      "Epoch 34/100\n",
      "10/10 [==============================] - 0s 299us/step - loss: 0.5124 - acc: 1.0000\n",
      "Epoch 35/100\n",
      "10/10 [==============================] - 0s 299us/step - loss: 0.5053 - acc: 1.0000\n",
      "Epoch 36/100\n",
      "10/10 [==============================] - 0s 299us/step - loss: 0.4985 - acc: 1.0000\n",
      "Epoch 37/100\n",
      "10/10 [==============================] - 0s 399us/step - loss: 0.4917 - acc: 1.0000\n",
      "Epoch 38/100\n",
      "10/10 [==============================] - 0s 398us/step - loss: 0.4851 - acc: 1.0000\n",
      "Epoch 39/100\n",
      "10/10 [==============================] - 0s 399us/step - loss: 0.4787 - acc: 1.0000\n",
      "Epoch 40/100\n",
      "10/10 [==============================] - 0s 398us/step - loss: 0.4724 - acc: 1.0000\n",
      "Epoch 41/100\n",
      "10/10 [==============================] - 0s 299us/step - loss: 0.4662 - acc: 1.0000\n",
      "Epoch 42/100\n",
      "10/10 [==============================] - 0s 499us/step - loss: 0.4601 - acc: 1.0000\n",
      "Epoch 43/100\n",
      "10/10 [==============================] - 0s 499us/step - loss: 0.4541 - acc: 1.0000\n",
      "Epoch 44/100\n",
      "10/10 [==============================] - 0s 399us/step - loss: 0.4483 - acc: 1.0000\n",
      "Epoch 45/100\n",
      "10/10 [==============================] - 0s 399us/step - loss: 0.4426 - acc: 1.0000\n",
      "Epoch 46/100\n",
      "10/10 [==============================] - 0s 498us/step - loss: 0.4369 - acc: 1.0000\n",
      "Epoch 47/100\n",
      "10/10 [==============================] - 0s 399us/step - loss: 0.4314 - acc: 1.0000\n",
      "Epoch 48/100\n",
      "10/10 [==============================] - 0s 399us/step - loss: 0.4260 - acc: 1.0000\n",
      "Epoch 49/100\n",
      "10/10 [==============================] - 0s 299us/step - loss: 0.4207 - acc: 1.0000\n",
      "Epoch 50/100\n",
      "10/10 [==============================] - 0s 399us/step - loss: 0.4155 - acc: 1.0000\n",
      "Epoch 51/100\n",
      "10/10 [==============================] - 0s 499us/step - loss: 0.4103 - acc: 1.0000\n",
      "Epoch 52/100\n",
      "10/10 [==============================] - 0s 399us/step - loss: 0.4053 - acc: 1.0000\n",
      "Epoch 53/100\n",
      "10/10 [==============================] - 0s 299us/step - loss: 0.4004 - acc: 1.0000\n",
      "Epoch 54/100\n",
      "10/10 [==============================] - 0s 401us/step - loss: 0.3955 - acc: 1.0000\n",
      "Epoch 55/100\n",
      "10/10 [==============================] - 0s 399us/step - loss: 0.3907 - acc: 1.0000\n",
      "Epoch 56/100\n",
      "10/10 [==============================] - 0s 399us/step - loss: 0.3861 - acc: 1.0000\n",
      "Epoch 57/100\n",
      "10/10 [==============================] - 0s 299us/step - loss: 0.3815 - acc: 1.0000\n",
      "Epoch 58/100\n",
      "10/10 [==============================] - 0s 299us/step - loss: 0.3769 - acc: 1.0000\n",
      "Epoch 59/100\n",
      "10/10 [==============================] - 0s 399us/step - loss: 0.3725 - acc: 1.0000\n",
      "Epoch 60/100\n",
      "10/10 [==============================] - 0s 299us/step - loss: 0.3681 - acc: 1.0000\n",
      "Epoch 61/100\n",
      "10/10 [==============================] - 0s 299us/step - loss: 0.3638 - acc: 1.0000\n",
      "Epoch 62/100\n",
      "10/10 [==============================] - 0s 199us/step - loss: 0.3596 - acc: 1.0000\n",
      "Epoch 63/100\n",
      "10/10 [==============================] - 0s 399us/step - loss: 0.3554 - acc: 1.0000\n",
      "Epoch 64/100\n",
      "10/10 [==============================] - 0s 399us/step - loss: 0.3513 - acc: 1.0000\n",
      "Epoch 65/100\n",
      "10/10 [==============================] - 0s 299us/step - loss: 0.3473 - acc: 1.0000\n",
      "Epoch 66/100\n",
      "10/10 [==============================] - 0s 199us/step - loss: 0.3433 - acc: 1.0000\n",
      "Epoch 67/100\n",
      "10/10 [==============================] - 0s 399us/step - loss: 0.3395 - acc: 1.0000\n",
      "Epoch 68/100\n",
      "10/10 [==============================] - 0s 299us/step - loss: 0.3356 - acc: 1.0000\n",
      "Epoch 69/100\n",
      "10/10 [==============================] - 0s 299us/step - loss: 0.3319 - acc: 1.0000\n",
      "Epoch 70/100\n",
      "10/10 [==============================] - 0s 299us/step - loss: 0.3281 - acc: 1.0000\n",
      "Epoch 71/100\n",
      "10/10 [==============================] - 0s 399us/step - loss: 0.3245 - acc: 1.0000\n",
      "Epoch 72/100\n",
      "10/10 [==============================] - 0s 299us/step - loss: 0.3209 - acc: 1.0000\n",
      "Epoch 73/100\n",
      "10/10 [==============================] - 0s 299us/step - loss: 0.3174 - acc: 1.0000\n",
      "Epoch 74/100\n",
      "10/10 [==============================] - 0s 299us/step - loss: 0.3139 - acc: 1.0000\n",
      "Epoch 75/100\n",
      "10/10 [==============================] - 0s 299us/step - loss: 0.3105 - acc: 1.0000\n",
      "Epoch 76/100\n",
      "10/10 [==============================] - 0s 299us/step - loss: 0.3071 - acc: 1.0000\n",
      "Epoch 77/100\n",
      "10/10 [==============================] - 0s 199us/step - loss: 0.3038 - acc: 1.0000\n",
      "Epoch 78/100\n",
      "10/10 [==============================] - 0s 199us/step - loss: 0.3005 - acc: 1.0000\n",
      "Epoch 79/100\n",
      "10/10 [==============================] - 0s 349us/step - loss: 0.2973 - acc: 1.0000\n",
      "Epoch 80/100\n",
      "10/10 [==============================] - 0s 399us/step - loss: 0.2941 - acc: 1.0000\n",
      "Epoch 81/100\n",
      "10/10 [==============================] - 0s 299us/step - loss: 0.2910 - acc: 1.0000\n",
      "Epoch 82/100\n",
      "10/10 [==============================] - 0s 299us/step - loss: 0.2879 - acc: 1.0000\n",
      "Epoch 83/100\n",
      "10/10 [==============================] - 0s 299us/step - loss: 0.2849 - acc: 1.0000\n",
      "Epoch 84/100\n",
      "10/10 [==============================] - 0s 299us/step - loss: 0.2819 - acc: 1.0000\n",
      "Epoch 85/100\n",
      "10/10 [==============================] - 0s 299us/step - loss: 0.2790 - acc: 1.0000\n"
     ]
    },
    {
     "name": "stdout",
     "output_type": "stream",
     "text": [
      "Epoch 86/100\n",
      "10/10 [==============================] - 0s 299us/step - loss: 0.2761 - acc: 1.0000\n",
      "Epoch 87/100\n",
      "10/10 [==============================] - 0s 199us/step - loss: 0.2733 - acc: 1.0000\n",
      "Epoch 88/100\n",
      "10/10 [==============================] - 0s 299us/step - loss: 0.2705 - acc: 1.0000\n",
      "Epoch 89/100\n",
      "10/10 [==============================] - 0s 199us/step - loss: 0.2677 - acc: 1.0000\n",
      "Epoch 90/100\n",
      "10/10 [==============================] - 0s 299us/step - loss: 0.2650 - acc: 1.0000\n",
      "Epoch 91/100\n",
      "10/10 [==============================] - 0s 199us/step - loss: 0.2623 - acc: 1.0000\n",
      "Epoch 92/100\n",
      "10/10 [==============================] - 0s 199us/step - loss: 0.2596 - acc: 1.0000\n",
      "Epoch 93/100\n",
      "10/10 [==============================] - 0s 399us/step - loss: 0.2570 - acc: 1.0000\n",
      "Epoch 94/100\n",
      "10/10 [==============================] - 0s 200us/step - loss: 0.2545 - acc: 1.0000\n",
      "Epoch 95/100\n",
      "10/10 [==============================] - 0s 299us/step - loss: 0.2519 - acc: 1.0000\n",
      "Epoch 96/100\n",
      "10/10 [==============================] - 0s 299us/step - loss: 0.2494 - acc: 1.0000\n",
      "Epoch 97/100\n",
      "10/10 [==============================] - 0s 299us/step - loss: 0.2470 - acc: 1.0000\n",
      "Epoch 98/100\n",
      "10/10 [==============================] - 0s 299us/step - loss: 0.2445 - acc: 1.0000\n",
      "Epoch 99/100\n",
      "10/10 [==============================] - 0s 299us/step - loss: 0.2422 - acc: 1.0000\n",
      "Epoch 100/100\n",
      "10/10 [==============================] - 0s 399us/step - loss: 0.2398 - acc: 1.0000\n",
      "10/10 [==============================] - 0s 6ms/step\n",
      "Accuracy:  100.0\n"
     ]
    }
   ],
   "source": [
    "model.fit(padded_docs,\n",
    "          labels,\n",
    "          epochs=100)\n",
    "loss, acc = model.evaluate(padded_docs, labels)\n",
    "print('Accuracy: ', acc * 100)"
   ]
  },
  {
   "cell_type": "markdown",
   "metadata": {},
   "source": [
    "## Let's test the model"
   ]
  },
  {
   "cell_type": "code",
   "execution_count": 11,
   "metadata": {},
   "outputs": [
    {
     "data": {
      "text/plain": [
       "array([[6, 1, 0, 0]])"
      ]
     },
     "execution_count": 11,
     "metadata": {},
     "output_type": "execute_result"
    }
   ],
   "source": [
    "sent = 'Well work!'\n",
    "encoded_docs = tokenizer.texts_to_sequences([sent])\n",
    "padded_encoded_docs = pad_sequences(encoded_docs, maxlen=max_length, padding='post' )\n",
    "padded_encoded_docs"
   ]
  },
  {
   "cell_type": "code",
   "execution_count": 14,
   "metadata": {},
   "outputs": [
    {
     "data": {
      "text/plain": [
       "array([[0.72876847]], dtype=float32)"
      ]
     },
     "execution_count": 14,
     "metadata": {},
     "output_type": "execute_result"
    }
   ],
   "source": [
    "model.predict(padded_encoded_docs)"
   ]
  }
 ],
 "metadata": {
  "kernelspec": {
   "display_name": "Python 3",
   "language": "python",
   "name": "python3"
  },
  "language_info": {
   "codemirror_mode": {
    "name": "ipython",
    "version": 3
   },
   "file_extension": ".py",
   "mimetype": "text/x-python",
   "name": "python",
   "nbconvert_exporter": "python",
   "pygments_lexer": "ipython3",
   "version": "3.6.5"
  }
 },
 "nbformat": 4,
 "nbformat_minor": 2
}
