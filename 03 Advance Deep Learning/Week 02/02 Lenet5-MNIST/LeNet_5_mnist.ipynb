{
  "cells": [
    {
      "cell_type": "code",
      "execution_count": null,
      "metadata": {
        "colab": {
          "base_uri": "https://localhost:8080/",
          "height": 226
        },
        "colab_type": "code",
        "id": "t7ePbAgu2IU7",
        "outputId": "11262d6e-58a7-4fb5-e7b0-2fd2cafce536"
      },
      "outputs": [
        {
          "data": {
            "image/png": "[encoded data removed]",
            "text/plain": [
              "<IPython.core.display.Image object>"
            ]
          },
          "execution_count": 3,
          "metadata": {
            "tags": []
          },
          "output_type": "execute_result"
        }
      ],
      "source": [
        "from IPython.display import Image\n",
        "Image('LeNet-5.PNG')"
      ]
    },
    {
      "cell_type": "code",
      "execution_count": null,
      "metadata": {
        "colab": {},
        "colab_type": "code",
        "id": "TPAlrC9JM-uK"
      },
      "outputs": [],
      "source": [
        "import numpy as np\n",
        "\n",
        "from keras.datasets import mnist\n",
        "from keras.models import Model \n",
        "from keras.layers import Dense, Conv2D, AveragePooling2D, Input, Activation, Flatten\n",
        "from keras.utils import to_categorical, plot_model"
      ]
    },
    {
      "cell_type": "code",
      "execution_count": null,
      "metadata": {
        "colab": {},
        "colab_type": "code",
        "id": "Do9Stj54Nz2g"
      },
      "outputs": [],
      "source": [
        "# data preprocessing\n",
        "(x_train, y_train), (x_test, y_test) = mnist.load_data()\n",
        "image_size = x_train.shape[1]\n",
        "\n",
        "x_train = x_train.astype('float32')/255\n",
        "x_test = x_test.astype('float32')/255\n",
        "\n",
        "x_train = x_train.reshape((-1, image_size, image_size, 1))\n",
        "x_test = x_test.reshape((-1, image_size, image_size, 1))\n",
        "\n",
        "n_labels = len(np.unique(y_train))\n",
        "\n",
        "y_train = to_categorical(y_train)\n",
        "y_test = to_categorical(y_test)\n",
        "\n",
        "print(\"x_train \", x_train.shape)\n",
        "print(\"x_test \", x_test.shape)\n",
        "\n",
        "print(\"y_train \", y_train.shape)\n",
        "print(\"y_test \", y_test.shape)"
      ]
    },
    {
      "cell_type": "code",
      "execution_count": null,
      "metadata": {
        "colab": {
          "base_uri": "https://localhost:8080/",
          "height": 54
        },
        "colab_type": "code",
        "id": "Qy-nHaT3PVLK",
        "outputId": "386d9c25-468d-4b77-be83-c9498a7274f8"
      },
      "outputs": [
        {
          "name": "stdout",
          "output_type": "stream",
          "text": [
            "x_train  (60000, 32, 32, 1)\n",
            "x_test  (10000, 32, 32, 1)\n"
          ]
        }
      ],
      "source": [
        "x_train = np.pad(x_train, ((0,0),(2,2),(2,2),(0,0)),'constant')\n",
        "x_test = np.pad(x_test, ((0,0),(2,2),(2,2),(0,0)),'constant')\n",
        "\n",
        "print(\"x_train \", x_train.shape)\n",
        "print(\"x_test \", x_test.shape)"
      ]
    },
    {
      "cell_type": "code",
      "execution_count": null,
      "metadata": {
        "colab": {},
        "colab_type": "code",
        "id": "xfxcsMePRm3k"
      },
      "outputs": [],
      "source": [
        "# hyper paramters\n",
        "kernel_size = 5\n",
        "filters = [6, 16]\n",
        "fc_units = [120, 84]\n",
        "\n",
        "batch_size = 128\n",
        "n_epochs = 10"
      ]
    },
    {
      "cell_type": "code",
      "execution_count": null,
      "metadata": {
        "colab": {
          "base_uri": "https://localhost:8080/",
          "height": 845
        },
        "colab_type": "code",
        "id": "Q_ppqYGTNt9O",
        "outputId": "bbbc9fd1-0ba5-4daf-97a7-6a95d2f2f14e"
      },
      "outputs": [
        {
          "name": "stderr",
          "output_type": "stream",
          "text": [
            "WARNING: Logging before flag parsing goes to stderr.\n",
            "W0821 09:50:23.339010 139770290116480 deprecation_wrapper.py:119] From /usr/local/lib/python3.6/dist-packages/keras/backend/tensorflow_backend.py:517: The name tf.placeholder is deprecated. Please use tf.compat.v1.placeholder instead.\n",
            "\n",
            "W0821 09:50:23.395771 139770290116480 deprecation_wrapper.py:119] From /usr/local/lib/python3.6/dist-packages/keras/backend/tensorflow_backend.py:4138: The name tf.random_uniform is deprecated. Please use tf.random.uniform instead.\n",
            "\n",
            "W0821 09:50:23.431718 139770290116480 deprecation_wrapper.py:119] From /usr/local/lib/python3.6/dist-packages/keras/backend/tensorflow_backend.py:3980: The name tf.nn.avg_pool is deprecated. Please use tf.nn.avg_pool2d instead.\n",
            "\n",
            "W0821 09:50:23.454205 139770290116480 deprecation_wrapper.py:119] From /usr/local/lib/python3.6/dist-packages/keras/backend/tensorflow_backend.py:74: The name tf.get_default_graph is deprecated. Please use tf.compat.v1.get_default_graph instead.\n",
            "\n",
            "W0821 09:50:23.512283 139770290116480 deprecation_wrapper.py:119] From /usr/local/lib/python3.6/dist-packages/keras/optimizers.py:790: The name tf.train.Optimizer is deprecated. Please use tf.compat.v1.train.Optimizer instead.\n",
            "\n",
            "W0821 09:50:23.540122 139770290116480 deprecation_wrapper.py:119] From /usr/local/lib/python3.6/dist-packages/keras/backend/tensorflow_backend.py:3295: The name tf.log is deprecated. Please use tf.math.log instead.\n",
            "\n"
          ]
        },
        {
          "name": "stdout",
          "output_type": "stream",
          "text": [
            "conv_1: (?, 28, 28, 6)\n",
            "pool_1: (?, 14, 14, 6)\n",
            "pool_2: (?, 5, 5, 16)\n",
            "flatten: (?, ?)\n",
            "_________________________________________________________________\n",
            "Layer (type)                 Output Shape              Param #   \n",
            "=================================================================\n",
            "inputs (InputLayer)          (None, 32, 32, 1)         0         \n",
            "_________________________________________________________________\n",
            "layer_1_conv_1_f_6_k_5_a_rel (None, 28, 28, 6)         156       \n",
            "_________________________________________________________________\n",
            "layer_1_avg_pool_1_p_2_s_2 ( (None, 14, 14, 6)         0         \n",
            "_________________________________________________________________\n",
            "layer_2_conv_2_f_16_k_5_a_re (None, 10, 10, 16)        2416      \n",
            "_________________________________________________________________\n",
            "layer_2_avg_pool_2_p_2_s_2 ( (None, 5, 5, 16)          0         \n",
            "_________________________________________________________________\n",
            "flatten_1 (Flatten)          (None, 400)               0         \n",
            "_________________________________________________________________\n",
            "layer_3_fc_1_u_120_a_relu (D (None, 120)               48120     \n",
            "_________________________________________________________________\n",
            "layer_4_fc_2_u_84_a_relu (De (None, 84)                10164     \n",
            "_________________________________________________________________\n",
            "layer_5_output_u_10 (Dense)  (None, 10)                850       \n",
            "_________________________________________________________________\n",
            "layer_5_softmax (Activation) (None, 10)                0         \n",
            "=================================================================\n",
            "Total params: 61,706\n",
            "Trainable params: 61,706\n",
            "Non-trainable params: 0\n",
            "_________________________________________________________________\n"
          ]
        }
      ],
      "source": [
        "inputs = Input(shape=(32, 32, 1), name='inputs')\n",
        "x = inputs \n",
        "x = Conv2D(filters=filters[0],\n",
        "           kernel_size=kernel_size,\n",
        "           activation='relu',\n",
        "           name=f'layer_1_conv_1_f_{filters[0]}_k_{kernel_size}_a_relu')(x)\n",
        "print(\"conv_1:\", x.shape )\n",
        "\n",
        "x = AveragePooling2D(pool_size=2,\n",
        "                     strides=2,\n",
        "                     name='layer_1_avg_pool_1_p_2_s_2')(x)\n",
        "print(\"pool_1:\", x.shape )\n",
        "\n",
        "x = Conv2D(filters=filters[1],\n",
        "           kernel_size=kernel_size,\n",
        "           activation='relu',\n",
        "           name=f'layer_2_conv_2_f_{filters[1]}_k_{kernel_size}_a_relu')(x)\n",
        "x = AveragePooling2D(pool_size=2,\n",
        "                     strides=2,\n",
        "                     name='layer_2_avg_pool_2_p_2_s_2')(x)\n",
        "print(\"pool_2:\", x.shape )\n",
        "x = Flatten()(x)\n",
        "print(\"flatten:\", x.shape )\n",
        "\n",
        "x = Dense(units=fc_units[0], activation='relu', name= f'layer_3_fc_1_u_{fc_units[0]}_a_relu')(x)\n",
        "x = Dense(units=fc_units[1], activation='relu', name= f'layer_4_fc_2_u_{fc_units[1]}_a_relu')(x)\n",
        "x = Dense(units=n_labels, name= f'layer_5_output_u_{n_labels}')(x)\n",
        "outputs = Activation('softmax',name='layer_5_softmax')(x)\n",
        "\n",
        "model = Model(inputs=inputs, outputs=outputs, name='LeNet-5')\n",
        "model.compile(loss='categorical_crossentropy',\n",
        "             optimizer='adam',\n",
        "             metrics=['accuracy'])\n",
        "model.summary()\n",
        "plot_model(model=model, to_file='LeNet-5_mnist.png', show_shapes=True)"
      ]
    },
    {
      "cell_type": "code",
      "execution_count": null,
      "metadata": {
        "colab": {
          "base_uri": "https://localhost:8080/",
          "height": 533
        },
        "colab_type": "code",
        "id": "SJzItRXhRSo-",
        "outputId": "3b3b8429-b908-4cc8-8d84-8949df9c92d7"
      },
      "outputs": [
        {
          "name": "stderr",
          "output_type": "stream",
          "text": [
            "W0821 09:50:46.618989 139770290116480 deprecation.py:323] From /usr/local/lib/python3.6/dist-packages/tensorflow/python/ops/math_grad.py:1250: add_dispatch_support.<locals>.wrapper (from tensorflow.python.ops.array_ops) is deprecated and will be removed in a future version.\n",
            "Instructions for updating:\n",
            "Use tf.where in 2.0, which has the same broadcast rule as np.where\n",
            "W0821 09:50:46.700570 139770290116480 deprecation_wrapper.py:119] From /usr/local/lib/python3.6/dist-packages/keras/backend/tensorflow_backend.py:986: The name tf.assign_add is deprecated. Please use tf.compat.v1.assign_add instead.\n",
            "\n"
          ]
        },
        {
          "name": "stdout",
          "output_type": "stream",
          "text": [
            "Train on 60000 samples, validate on 10000 samples\n",
            "Epoch 1/10\n",
            "60000/60000 [==============================] - 11s 180us/step - loss: 0.3569 - acc: 0.8939 - val_loss: 0.1093 - val_acc: 0.9666\n",
            "Epoch 2/10\n",
            "60000/60000 [==============================] - 4s 72us/step - loss: 0.0991 - acc: 0.9704 - val_loss: 0.0692 - val_acc: 0.9785\n",
            "Epoch 3/10\n",
            "60000/60000 [==============================] - 4s 72us/step - loss: 0.0703 - acc: 0.9785 - val_loss: 0.0461 - val_acc: 0.9848\n",
            "Epoch 4/10\n",
            "60000/60000 [==============================] - 4s 72us/step - loss: 0.0557 - acc: 0.9827 - val_loss: 0.0457 - val_acc: 0.9855\n",
            "Epoch 5/10\n",
            "60000/60000 [==============================] - 4s 74us/step - loss: 0.0469 - acc: 0.9850 - val_loss: 0.0483 - val_acc: 0.9842\n",
            "Epoch 6/10\n",
            "60000/60000 [==============================] - 4s 74us/step - loss: 0.0397 - acc: 0.9877 - val_loss: 0.0355 - val_acc: 0.9875\n",
            "Epoch 7/10\n",
            "60000/60000 [==============================] - 4s 72us/step - loss: 0.0360 - acc: 0.9884 - val_loss: 0.0421 - val_acc: 0.9853\n",
            "Epoch 8/10\n",
            "60000/60000 [==============================] - 4s 72us/step - loss: 0.0303 - acc: 0.9904 - val_loss: 0.0398 - val_acc: 0.9879\n",
            "Epoch 9/10\n",
            "60000/60000 [==============================] - 4s 71us/step - loss: 0.0262 - acc: 0.9915 - val_loss: 0.0442 - val_acc: 0.9849\n",
            "Epoch 10/10\n",
            "60000/60000 [==============================] - 4s 70us/step - loss: 0.0240 - acc: 0.9922 - val_loss: 0.0312 - val_acc: 0.9899\n"
          ]
        },
        {
          "data": {
            "text/plain": [
              "<keras.callbacks.History at 0x7f1eab66e240>"
            ]
          },
          "execution_count": 9,
          "metadata": {
            "tags": []
          },
          "output_type": "execute_result"
        }
      ],
      "source": [
        "model.fit(x_train, y_train,\n",
        "          validation_data=(x_test, y_test),\n",
        "          epochs=n_epochs,\n",
        "          batch_size=batch_size)"
      ]
    }
  ],
  "metadata": {
    "accelerator": "GPU",
    "colab": {
      "collapsed_sections": [],
      "name": "LeNet 5-mnist.ipynb",
      "provenance": [],
      "version": "0.3.2"
    },
    "kernelspec": {
      "display_name": "Python 3",
      "name": "python3"
    },
    "language_info": {
      "name": "python",
      "version": "3.10.13"
    }
  },
  "nbformat": 4,
  "nbformat_minor": 0
}
